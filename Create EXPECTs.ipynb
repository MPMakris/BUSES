{
 "cells": [
  {
   "cell_type": "markdown",
   "metadata": {},
   "source": [
    "# This is a working file to create the list of EXPECTs:\n",
    "\n",
    "* An EXPECT is a Trip ID & Arrival Time pairing.\n",
    "* The list of EXPECTs for an agency should include all the expected arrivals of vehicles for all their routes."
   ]
  },
  {
   "cell_type": "code",
   "execution_count": 1,
   "metadata": {
    "collapsed": true
   },
   "outputs": [],
   "source": [
    "%matplotlib inline\n",
    "import numpy as np\n",
    "import pandas as pd\n",
    "import os"
   ]
  },
  {
   "cell_type": "code",
   "execution_count": 2,
   "metadata": {
    "collapsed": true
   },
   "outputs": [],
   "source": [
    "agency_number = 1\n",
    "if type(agency_number) == int:\n",
    "    agency_number = str(agency_number)\n",
    "EXPECTS = []"
   ]
  },
  {
   "cell_type": "code",
   "execution_count": 3,
   "metadata": {
    "collapsed": false
   },
   "outputs": [],
   "source": [
    "directory = os.listdir('./Agency-Info/')\n",
    "stop_times_file = './Agency-Info/' + agency_number + '_gtfs/stop_times.txt'\n",
    "stops_file = './Agency-Info/' + agency_number + '_gtfs/stops.txt'\n",
    "trips_file = './Agency-Info/' + agency_number + '_gtfs/trips.txt'\n",
    "routes_file = './Agency-Info/' + agency_number + '_gtfs/routes.txt'"
   ]
  },
  {
   "cell_type": "code",
   "execution_count": 4,
   "metadata": {
    "collapsed": false
   },
   "outputs": [],
   "source": [
    "STOP_TIMES = pd.read_csv(stop_times_file,sep=',', usecols=['trip_id', 'stop_id', 'arrival_time', 'departure_time'])"
   ]
  },
  {
   "cell_type": "code",
   "execution_count": 5,
   "metadata": {
    "collapsed": false
   },
   "outputs": [],
   "source": [
    "STOP_TIMES = pd.read_csv(stop_times_file,sep=',', usecols=['trip_id', 'stop_id', 'arrival_time', 'departure_time'])\n",
    "STOPS = pd.read_csv(stops_file,sep=',', usecols=['stop_id','stop_lat','stop_lon','stop_name'])\n",
    "TRIPS = pd.read_csv(trips_file,sep=',', usecols=['route_id','trip_id'])\n",
    "ROUTES = pd.read_csv(routes_file,sep=',', usecols=['agency_id', 'route_id','route_short_name'])"
   ]
  },
  {
   "cell_type": "code",
   "execution_count": 6,
   "metadata": {
    "collapsed": false
   },
   "outputs": [],
   "source": [
    "EXPECTS = STOP_TIMES.merge(STOPS[['stop_id','stop_lat','stop_lon','stop_name']],how=\"left\", on=\"stop_id\").merge(TRIPS[['route_id','trip_id']],how=\"left\",on='trip_id').merge(ROUTES[['route_id','route_short_name','agency_id']],how=\"left\",on='route_id')"
   ]
  },
  {
   "cell_type": "code",
   "execution_count": 7,
   "metadata": {
    "collapsed": false
   },
   "outputs": [
    {
     "data": {
      "text/plain": [
       "1766143"
      ]
     },
     "execution_count": 7,
     "metadata": {},
     "output_type": "execute_result"
    }
   ],
   "source": [
    "len(EXPECTS)"
   ]
  },
  {
   "cell_type": "code",
   "execution_count": 7,
   "metadata": {
    "collapsed": false
   },
   "outputs": [
    {
     "data": {
      "text/html": [
       "<div>\n",
       "<table border=\"1\" class=\"dataframe\">\n",
       "  <thead>\n",
       "    <tr style=\"text-align: right;\">\n",
       "      <th></th>\n",
       "      <th>trip_id</th>\n",
       "      <th>stop_id</th>\n",
       "      <th>arrival_time</th>\n",
       "      <th>departure_time</th>\n",
       "      <th>stop_lat</th>\n",
       "      <th>stop_lon</th>\n",
       "      <th>stop_name</th>\n",
       "      <th>route_id</th>\n",
       "      <th>route_short_name</th>\n",
       "      <th>agency_id</th>\n",
       "    </tr>\n",
       "  </thead>\n",
       "  <tbody>\n",
       "    <tr>\n",
       "      <th>0</th>\n",
       "      <td>18155895</td>\n",
       "      <td>450</td>\n",
       "      <td>06:45:15</td>\n",
       "      <td>06:45:15</td>\n",
       "      <td>47.608250</td>\n",
       "      <td>-122.336548</td>\n",
       "      <td>3rd Ave &amp; Union St</td>\n",
       "      <td>100173</td>\n",
       "      <td>3</td>\n",
       "      <td>1</td>\n",
       "    </tr>\n",
       "    <tr>\n",
       "      <th>1</th>\n",
       "      <td>18155895</td>\n",
       "      <td>480</td>\n",
       "      <td>06:48:14</td>\n",
       "      <td>06:48:14</td>\n",
       "      <td>47.604996</td>\n",
       "      <td>-122.333572</td>\n",
       "      <td>3rd Ave &amp; Marion St</td>\n",
       "      <td>100173</td>\n",
       "      <td>3</td>\n",
       "      <td>1</td>\n",
       "    </tr>\n",
       "    <tr>\n",
       "      <th>2</th>\n",
       "      <td>18155895</td>\n",
       "      <td>1560</td>\n",
       "      <td>06:50:39</td>\n",
       "      <td>06:50:39</td>\n",
       "      <td>47.602932</td>\n",
       "      <td>-122.330826</td>\n",
       "      <td>James St &amp; 3rd Ave</td>\n",
       "      <td>100173</td>\n",
       "      <td>3</td>\n",
       "      <td>1</td>\n",
       "    </tr>\n",
       "    <tr>\n",
       "      <th>3</th>\n",
       "      <td>18155895</td>\n",
       "      <td>1570</td>\n",
       "      <td>06:51:40</td>\n",
       "      <td>06:51:40</td>\n",
       "      <td>47.603786</td>\n",
       "      <td>-122.328789</td>\n",
       "      <td>James St &amp; 5th Ave</td>\n",
       "      <td>100173</td>\n",
       "      <td>3</td>\n",
       "      <td>1</td>\n",
       "    </tr>\n",
       "    <tr>\n",
       "      <th>4</th>\n",
       "      <td>18155895</td>\n",
       "      <td>12900</td>\n",
       "      <td>06:53:18</td>\n",
       "      <td>06:53:18</td>\n",
       "      <td>47.605164</td>\n",
       "      <td>-122.325500</td>\n",
       "      <td>James St &amp; 8th Ave</td>\n",
       "      <td>100173</td>\n",
       "      <td>3</td>\n",
       "      <td>1</td>\n",
       "    </tr>\n",
       "  </tbody>\n",
       "</table>\n",
       "</div>"
      ],
      "text/plain": [
       "    trip_id  stop_id arrival_time departure_time   stop_lat    stop_lon  \\\n",
       "0  18155895      450     06:45:15       06:45:15  47.608250 -122.336548   \n",
       "1  18155895      480     06:48:14       06:48:14  47.604996 -122.333572   \n",
       "2  18155895     1560     06:50:39       06:50:39  47.602932 -122.330826   \n",
       "3  18155895     1570     06:51:40       06:51:40  47.603786 -122.328789   \n",
       "4  18155895    12900     06:53:18       06:53:18  47.605164 -122.325500   \n",
       "\n",
       "             stop_name  route_id route_short_name agency_id  \n",
       "0   3rd Ave & Union St    100173                3         1  \n",
       "1  3rd Ave & Marion St    100173                3         1  \n",
       "2   James St & 3rd Ave    100173                3         1  \n",
       "3   James St & 5th Ave    100173                3         1  \n",
       "4   James St & 8th Ave    100173                3         1  "
      ]
     },
     "execution_count": 7,
     "metadata": {},
     "output_type": "execute_result"
    }
   ],
   "source": [
    "EXPECTS.head()"
   ]
  },
  {
   "cell_type": "code",
   "execution_count": 8,
   "metadata": {
    "collapsed": false
   },
   "outputs": [],
   "source": [
    "EXPECTS = EXPECTS[EXPECTS['agency_id']==agency_number]\n",
    "EXPECTS.drop('agency_id', inplace=True, axis=1)"
   ]
  },
  {
   "cell_type": "code",
   "execution_count": 9,
   "metadata": {
    "collapsed": true
   },
   "outputs": [],
   "source": [
    "EXPECTS['trip_id'] = agency_number +\"_\"+EXPECTS['trip_id'].astype(str)\n",
    "EXPECTS['stop_id'] = agency_number +\"_\" +EXPECTS['stop_id'].astype(str)\n",
    "EXPECTS['route_id'] = agency_number +\"_\" +EXPECTS['route_id'].astype(str)\n",
    "EXPECTS['route_short_name'] = agency_number +\"_\"+EXPECTS['route_short_name'].astype(str)"
   ]
  },
  {
   "cell_type": "code",
   "execution_count": 10,
   "metadata": {
    "collapsed": false
   },
   "outputs": [
    {
     "data": {
      "text/html": [
       "<div>\n",
       "<table border=\"1\" class=\"dataframe\">\n",
       "  <thead>\n",
       "    <tr style=\"text-align: right;\">\n",
       "      <th></th>\n",
       "      <th>trip_id</th>\n",
       "      <th>stop_id</th>\n",
       "      <th>arrival_time</th>\n",
       "      <th>departure_time</th>\n",
       "      <th>stop_lat</th>\n",
       "      <th>stop_lon</th>\n",
       "      <th>stop_name</th>\n",
       "      <th>route_id</th>\n",
       "      <th>route_short_name</th>\n",
       "    </tr>\n",
       "  </thead>\n",
       "  <tbody>\n",
       "    <tr>\n",
       "      <th>0</th>\n",
       "      <td>1_18155895</td>\n",
       "      <td>1_450</td>\n",
       "      <td>06:45:15</td>\n",
       "      <td>06:45:15</td>\n",
       "      <td>47.608250</td>\n",
       "      <td>-122.336548</td>\n",
       "      <td>3rd Ave &amp; Union St</td>\n",
       "      <td>1_100173</td>\n",
       "      <td>1_3</td>\n",
       "    </tr>\n",
       "    <tr>\n",
       "      <th>1</th>\n",
       "      <td>1_18155895</td>\n",
       "      <td>1_480</td>\n",
       "      <td>06:48:14</td>\n",
       "      <td>06:48:14</td>\n",
       "      <td>47.604996</td>\n",
       "      <td>-122.333572</td>\n",
       "      <td>3rd Ave &amp; Marion St</td>\n",
       "      <td>1_100173</td>\n",
       "      <td>1_3</td>\n",
       "    </tr>\n",
       "    <tr>\n",
       "      <th>2</th>\n",
       "      <td>1_18155895</td>\n",
       "      <td>1_1560</td>\n",
       "      <td>06:50:39</td>\n",
       "      <td>06:50:39</td>\n",
       "      <td>47.602932</td>\n",
       "      <td>-122.330826</td>\n",
       "      <td>James St &amp; 3rd Ave</td>\n",
       "      <td>1_100173</td>\n",
       "      <td>1_3</td>\n",
       "    </tr>\n",
       "    <tr>\n",
       "      <th>3</th>\n",
       "      <td>1_18155895</td>\n",
       "      <td>1_1570</td>\n",
       "      <td>06:51:40</td>\n",
       "      <td>06:51:40</td>\n",
       "      <td>47.603786</td>\n",
       "      <td>-122.328789</td>\n",
       "      <td>James St &amp; 5th Ave</td>\n",
       "      <td>1_100173</td>\n",
       "      <td>1_3</td>\n",
       "    </tr>\n",
       "    <tr>\n",
       "      <th>4</th>\n",
       "      <td>1_18155895</td>\n",
       "      <td>1_12900</td>\n",
       "      <td>06:53:18</td>\n",
       "      <td>06:53:18</td>\n",
       "      <td>47.605164</td>\n",
       "      <td>-122.325500</td>\n",
       "      <td>James St &amp; 8th Ave</td>\n",
       "      <td>1_100173</td>\n",
       "      <td>1_3</td>\n",
       "    </tr>\n",
       "  </tbody>\n",
       "</table>\n",
       "</div>"
      ],
      "text/plain": [
       "      trip_id  stop_id arrival_time departure_time   stop_lat    stop_lon  \\\n",
       "0  1_18155895    1_450     06:45:15       06:45:15  47.608250 -122.336548   \n",
       "1  1_18155895    1_480     06:48:14       06:48:14  47.604996 -122.333572   \n",
       "2  1_18155895   1_1560     06:50:39       06:50:39  47.602932 -122.330826   \n",
       "3  1_18155895   1_1570     06:51:40       06:51:40  47.603786 -122.328789   \n",
       "4  1_18155895  1_12900     06:53:18       06:53:18  47.605164 -122.325500   \n",
       "\n",
       "             stop_name  route_id route_short_name  \n",
       "0   3rd Ave & Union St  1_100173              1_3  \n",
       "1  3rd Ave & Marion St  1_100173              1_3  \n",
       "2   James St & 3rd Ave  1_100173              1_3  \n",
       "3   James St & 5th Ave  1_100173              1_3  \n",
       "4   James St & 8th Ave  1_100173              1_3  "
      ]
     },
     "execution_count": 10,
     "metadata": {},
     "output_type": "execute_result"
    }
   ],
   "source": [
    "EXPECTS.head()"
   ]
  },
  {
   "cell_type": "code",
   "execution_count": 11,
   "metadata": {
    "collapsed": false
   },
   "outputs": [],
   "source": [
    "EXPECTS.columns = ['Trip_Id', 'Stop_Id', 'Arrival_Time', 'Departure_Time', 'Stop_Lat',\n",
    "       'Stop_Lon', 'Stop_Name', 'Route_Id', 'Route_Short_Name']"
   ]
  },
  {
   "cell_type": "code",
   "execution_count": 12,
   "metadata": {
    "collapsed": false
   },
   "outputs": [],
   "source": [
    "EXPECTS.to_csv('./EXPECTS_Databases_Whole/'+\"EXPECTS_\"+str(agency_number)+\"_\"+\".csv\", sep=',', na_rep='NA', index=False, mode = 'wb')"
   ]
  },
  {
   "cell_type": "markdown",
   "metadata": {},
   "source": [
    "### EXPECTS Broken Out By Route"
   ]
  },
  {
   "cell_type": "code",
   "execution_count": 26,
   "metadata": {
    "collapsed": true
   },
   "outputs": [],
   "source": [
    "route_number = 2\n",
    "if type(route_number) == int:\n",
    "    route_number = str(route_number)"
   ]
  },
  {
   "cell_type": "code",
   "execution_count": 27,
   "metadata": {
    "collapsed": false
   },
   "outputs": [
    {
     "data": {
      "text/html": [
       "<div>\n",
       "<table border=\"1\" class=\"dataframe\">\n",
       "  <thead>\n",
       "    <tr style=\"text-align: right;\">\n",
       "      <th></th>\n",
       "      <th>Trip_Id</th>\n",
       "      <th>Stop_Id</th>\n",
       "      <th>Arrival_Time</th>\n",
       "      <th>Departure_Time</th>\n",
       "      <th>Stop_Lat</th>\n",
       "      <th>Stop_Lon</th>\n",
       "      <th>Stop_Name</th>\n",
       "      <th>Route_Id</th>\n",
       "      <th>Route_Short_Name</th>\n",
       "    </tr>\n",
       "  </thead>\n",
       "  <tbody>\n",
       "    <tr>\n",
       "      <th>55787</th>\n",
       "      <td>1_24164752</td>\n",
       "      <td>1_1530</td>\n",
       "      <td>05:11:15</td>\n",
       "      <td>05:11:15</td>\n",
       "      <td>47.599266</td>\n",
       "      <td>-122.328384</td>\n",
       "      <td>S Jackson St &amp; 5th Ave S</td>\n",
       "      <td>1_100089</td>\n",
       "      <td>1_2</td>\n",
       "    </tr>\n",
       "    <tr>\n",
       "      <th>55788</th>\n",
       "      <td>1_24164752</td>\n",
       "      <td>1_1610</td>\n",
       "      <td>05:12:57</td>\n",
       "      <td>05:12:57</td>\n",
       "      <td>47.601730</td>\n",
       "      <td>-122.330116</td>\n",
       "      <td>Prefontaine Pl S &amp; Yesler Way</td>\n",
       "      <td>1_100089</td>\n",
       "      <td>1_2</td>\n",
       "    </tr>\n",
       "    <tr>\n",
       "      <th>55789</th>\n",
       "      <td>1_24164752</td>\n",
       "      <td>1_538</td>\n",
       "      <td>05:14:32</td>\n",
       "      <td>05:14:32</td>\n",
       "      <td>47.604191</td>\n",
       "      <td>-122.332588</td>\n",
       "      <td>3rd Ave &amp; Columbia St</td>\n",
       "      <td>1_100089</td>\n",
       "      <td>1_2</td>\n",
       "    </tr>\n",
       "    <tr>\n",
       "      <th>55790</th>\n",
       "      <td>1_24164752</td>\n",
       "      <td>1_558</td>\n",
       "      <td>05:16:18</td>\n",
       "      <td>05:16:18</td>\n",
       "      <td>47.607052</td>\n",
       "      <td>-122.335213</td>\n",
       "      <td>3rd Ave &amp; Seneca St</td>\n",
       "      <td>1_100089</td>\n",
       "      <td>1_2</td>\n",
       "    </tr>\n",
       "    <tr>\n",
       "      <th>55791</th>\n",
       "      <td>1_24164752</td>\n",
       "      <td>1_575</td>\n",
       "      <td>05:17:55</td>\n",
       "      <td>05:17:55</td>\n",
       "      <td>47.609642</td>\n",
       "      <td>-122.337585</td>\n",
       "      <td>3rd Ave &amp; Pike St</td>\n",
       "      <td>1_100089</td>\n",
       "      <td>1_2</td>\n",
       "    </tr>\n",
       "  </tbody>\n",
       "</table>\n",
       "</div>"
      ],
      "text/plain": [
       "          Trip_Id Stop_Id Arrival_Time Departure_Time   Stop_Lat    Stop_Lon  \\\n",
       "55787  1_24164752  1_1530     05:11:15       05:11:15  47.599266 -122.328384   \n",
       "55788  1_24164752  1_1610     05:12:57       05:12:57  47.601730 -122.330116   \n",
       "55789  1_24164752   1_538     05:14:32       05:14:32  47.604191 -122.332588   \n",
       "55790  1_24164752   1_558     05:16:18       05:16:18  47.607052 -122.335213   \n",
       "55791  1_24164752   1_575     05:17:55       05:17:55  47.609642 -122.337585   \n",
       "\n",
       "                           Stop_Name  Route_Id Route_Short_Name  \n",
       "55787       S Jackson St & 5th Ave S  1_100089              1_2  \n",
       "55788  Prefontaine Pl S & Yesler Way  1_100089              1_2  \n",
       "55789          3rd Ave & Columbia St  1_100089              1_2  \n",
       "55790            3rd Ave & Seneca St  1_100089              1_2  \n",
       "55791              3rd Ave & Pike St  1_100089              1_2  "
      ]
     },
     "execution_count": 27,
     "metadata": {},
     "output_type": "execute_result"
    }
   ],
   "source": [
    "EXPECTS_ROUTE = EXPECTS[EXPECTS['Route_Short_Name']==agency_number + \"_\" + route_number]\n",
    "EXPECTS_ROUTE.head()"
   ]
  },
  {
   "cell_type": "code",
   "execution_count": 28,
   "metadata": {
    "collapsed": false
   },
   "outputs": [],
   "source": [
    "EXPECTS_ROUTE.to_csv('./EXPECTS_Databases_Routes/' + agency_number + '/' + 'EXPECTS_' + agency_number + '_Route_' + route_number + '.txt', sep=',', na_rep='NA', index=False, mode = 'wb')"
   ]
  }
 ],
 "metadata": {
  "kernelspec": {
   "display_name": "Python 2",
   "language": "python",
   "name": "python2"
  },
  "language_info": {
   "codemirror_mode": {
    "name": "ipython",
    "version": 2
   },
   "file_extension": ".py",
   "mimetype": "text/x-python",
   "name": "python",
   "nbconvert_exporter": "python",
   "pygments_lexer": "ipython2",
   "version": "2.7.11"
  }
 },
 "nbformat": 4,
 "nbformat_minor": 0
}
