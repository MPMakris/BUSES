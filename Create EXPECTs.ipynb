{
 "cells": [
  {
   "cell_type": "markdown",
   "metadata": {},
   "source": [
    "# This is a working file to create the list of EXPECTs:\n",
    "\n",
    "* An EXPECT is a Trip ID & Arrival Time pairing.\n",
    "* The list of EXPECTs for an agency should include all the expected arrivals of vehicles for all their routes."
   ]
  },
  {
   "cell_type": "markdown",
   "metadata": {},
   "source": [
    "### Imports\n",
    "* Further work: needs to be optimized for just the methods used at a later date"
   ]
  },
  {
   "cell_type": "code",
   "execution_count": 1,
   "metadata": {
    "collapsed": true
   },
   "outputs": [],
   "source": [
    "%matplotlib inline\n",
    "import numpy as np\n",
    "import pandas as pd\n",
    "#import requests\n",
    "#import re\n",
    "import os\n",
    "#from bs4 import BeautifulSoup as BS\n",
    "#import csv"
   ]
  },
  {
   "cell_type": "code",
   "execution_count": 2,
   "metadata": {
    "collapsed": true
   },
   "outputs": [],
   "source": [
    "agency_number = 1"
   ]
  },
  {
   "cell_type": "code",
   "execution_count": 27,
   "metadata": {
    "collapsed": false
   },
   "outputs": [],
   "source": [
    "directory = os.listdir('./Agency-Info/')\n",
    "stop_times_file = './Agency-Info/' + directory[agency_number] + '/stop_times.txt'\n",
    "stops_file = './Agency-Info/' + directory[agency_number] + '/stops.txt'\n",
    "trips_file = './Agency-Info/' + directory[agency_number] + '/trips.txt'\n",
    "routes_file = './Agency-Info/' + directory[agency_number] + '/routes.txt'"
   ]
  },
  {
   "cell_type": "code",
   "execution_count": 28,
   "metadata": {
    "collapsed": false
   },
   "outputs": [],
   "source": [
    "STOP_TIMES = pd.read_csv(stop_times_file)\n",
    "STOPS = pd.read_csv(stops_file)\n",
    "TRIPS = pd.read_csv(trips_file)\n",
    "ROUTES = pd.read_csv(routes_file)"
   ]
  },
  {
   "cell_type": "code",
   "execution_count": 29,
   "metadata": {
    "collapsed": false
   },
   "outputs": [
    {
     "data": {
      "text/html": [
       "<div>\n",
       "<table border=\"1\" class=\"dataframe\">\n",
       "  <thead>\n",
       "    <tr style=\"text-align: right;\">\n",
       "      <th></th>\n",
       "      <th>trip_id</th>\n",
       "      <th>stop_id</th>\n",
       "      <th>arrival_time</th>\n",
       "      <th>departure_time</th>\n",
       "      <th>shape_dist_traveled</th>\n",
       "    </tr>\n",
       "  </thead>\n",
       "  <tbody>\n",
       "    <tr>\n",
       "      <th>0</th>\n",
       "      <td>18155895</td>\n",
       "      <td>450</td>\n",
       "      <td>06:45:15</td>\n",
       "      <td>06:45:15</td>\n",
       "      <td>0.0</td>\n",
       "    </tr>\n",
       "    <tr>\n",
       "      <th>1</th>\n",
       "      <td>18155895</td>\n",
       "      <td>480</td>\n",
       "      <td>06:48:14</td>\n",
       "      <td>06:48:14</td>\n",
       "      <td>1397.4</td>\n",
       "    </tr>\n",
       "    <tr>\n",
       "      <th>2</th>\n",
       "      <td>18155895</td>\n",
       "      <td>1560</td>\n",
       "      <td>06:50:39</td>\n",
       "      <td>06:50:39</td>\n",
       "      <td>2521.4</td>\n",
       "    </tr>\n",
       "    <tr>\n",
       "      <th>3</th>\n",
       "      <td>18155895</td>\n",
       "      <td>1570</td>\n",
       "      <td>06:51:40</td>\n",
       "      <td>06:51:40</td>\n",
       "      <td>3112.8</td>\n",
       "    </tr>\n",
       "    <tr>\n",
       "      <th>4</th>\n",
       "      <td>18155895</td>\n",
       "      <td>12900</td>\n",
       "      <td>06:53:18</td>\n",
       "      <td>06:53:18</td>\n",
       "      <td>4068.2</td>\n",
       "    </tr>\n",
       "  </tbody>\n",
       "</table>\n",
       "</div>"
      ],
      "text/plain": [
       "    trip_id  stop_id arrival_time departure_time  shape_dist_traveled\n",
       "0  18155895      450     06:45:15       06:45:15                  0.0\n",
       "1  18155895      480     06:48:14       06:48:14               1397.4\n",
       "2  18155895     1560     06:50:39       06:50:39               2521.4\n",
       "3  18155895     1570     06:51:40       06:51:40               3112.8\n",
       "4  18155895    12900     06:53:18       06:53:18               4068.2"
      ]
     },
     "execution_count": 29,
     "metadata": {},
     "output_type": "execute_result"
    }
   ],
   "source": [
    "STOP_TIMES.drop('stop_sequence', axis=1, inplace=True)\n",
    "STOP_TIMES.drop('stop_headsign', axis=1, inplace=True)\n",
    "STOP_TIMES.drop('fare_period_id', axis=1, inplace=True)\n",
    "STOP_TIMES.head()"
   ]
  },
  {
   "cell_type": "code",
   "execution_count": 25,
   "metadata": {
    "collapsed": false
   },
   "outputs": [],
   "source": [
    "#STOP_TIMES.sort(columns=['trip_id','shape_dist_traveled'], axis=0)"
   ]
  },
  {
   "cell_type": "code",
   "execution_count": 34,
   "metadata": {
    "collapsed": false
   },
   "outputs": [
    {
     "data": {
      "text/html": [
       "<div>\n",
       "<table border=\"1\" class=\"dataframe\">\n",
       "  <thead>\n",
       "    <tr style=\"text-align: right;\">\n",
       "      <th></th>\n",
       "      <th>trip_id</th>\n",
       "      <th>stop_id</th>\n",
       "      <th>arrival_time</th>\n",
       "      <th>departure_time</th>\n",
       "      <th>shape_dist_traveled</th>\n",
       "      <th>stop_lat</th>\n",
       "      <th>stop_lon</th>\n",
       "      <th>stop_name</th>\n",
       "      <th>route_id</th>\n",
       "      <th>route_short_name</th>\n",
       "    </tr>\n",
       "  </thead>\n",
       "  <tbody>\n",
       "    <tr>\n",
       "      <th>0</th>\n",
       "      <td>18155895</td>\n",
       "      <td>450</td>\n",
       "      <td>06:45:15</td>\n",
       "      <td>06:45:15</td>\n",
       "      <td>0.0</td>\n",
       "      <td>47.608250</td>\n",
       "      <td>-122.336548</td>\n",
       "      <td>3rd Ave &amp; Union St</td>\n",
       "      <td>100173</td>\n",
       "      <td>3</td>\n",
       "    </tr>\n",
       "    <tr>\n",
       "      <th>1</th>\n",
       "      <td>18155895</td>\n",
       "      <td>480</td>\n",
       "      <td>06:48:14</td>\n",
       "      <td>06:48:14</td>\n",
       "      <td>1397.4</td>\n",
       "      <td>47.604996</td>\n",
       "      <td>-122.333572</td>\n",
       "      <td>3rd Ave &amp; Marion St</td>\n",
       "      <td>100173</td>\n",
       "      <td>3</td>\n",
       "    </tr>\n",
       "    <tr>\n",
       "      <th>2</th>\n",
       "      <td>18155895</td>\n",
       "      <td>1560</td>\n",
       "      <td>06:50:39</td>\n",
       "      <td>06:50:39</td>\n",
       "      <td>2521.4</td>\n",
       "      <td>47.602932</td>\n",
       "      <td>-122.330826</td>\n",
       "      <td>James St &amp; 3rd Ave</td>\n",
       "      <td>100173</td>\n",
       "      <td>3</td>\n",
       "    </tr>\n",
       "    <tr>\n",
       "      <th>3</th>\n",
       "      <td>18155895</td>\n",
       "      <td>1570</td>\n",
       "      <td>06:51:40</td>\n",
       "      <td>06:51:40</td>\n",
       "      <td>3112.8</td>\n",
       "      <td>47.603786</td>\n",
       "      <td>-122.328789</td>\n",
       "      <td>James St &amp; 5th Ave</td>\n",
       "      <td>100173</td>\n",
       "      <td>3</td>\n",
       "    </tr>\n",
       "    <tr>\n",
       "      <th>4</th>\n",
       "      <td>18155895</td>\n",
       "      <td>12900</td>\n",
       "      <td>06:53:18</td>\n",
       "      <td>06:53:18</td>\n",
       "      <td>4068.2</td>\n",
       "      <td>47.605164</td>\n",
       "      <td>-122.325500</td>\n",
       "      <td>James St &amp; 8th Ave</td>\n",
       "      <td>100173</td>\n",
       "      <td>3</td>\n",
       "    </tr>\n",
       "  </tbody>\n",
       "</table>\n",
       "</div>"
      ],
      "text/plain": [
       "    trip_id  stop_id arrival_time departure_time  shape_dist_traveled  \\\n",
       "0  18155895      450     06:45:15       06:45:15                  0.0   \n",
       "1  18155895      480     06:48:14       06:48:14               1397.4   \n",
       "2  18155895     1560     06:50:39       06:50:39               2521.4   \n",
       "3  18155895     1570     06:51:40       06:51:40               3112.8   \n",
       "4  18155895    12900     06:53:18       06:53:18               4068.2   \n",
       "\n",
       "    stop_lat    stop_lon            stop_name  route_id route_short_name  \n",
       "0  47.608250 -122.336548   3rd Ave & Union St    100173                3  \n",
       "1  47.604996 -122.333572  3rd Ave & Marion St    100173                3  \n",
       "2  47.602932 -122.330826   James St & 3rd Ave    100173                3  \n",
       "3  47.603786 -122.328789   James St & 5th Ave    100173                3  \n",
       "4  47.605164 -122.325500   James St & 8th Ave    100173                3  "
      ]
     },
     "execution_count": 34,
     "metadata": {},
     "output_type": "execute_result"
    }
   ],
   "source": [
    "EXPECTS = STOP_TIMES.merge(STOPS[['stop_id','stop_lat','stop_lon','stop_name']],how=\"left\", on=\"stop_id\").merge(TRIPS[['route_id','trip_id']],how=\"left\",on='trip_id').merge(ROUTES[['route_id','route_short_name']],how=\"left\",on='route_id')\n",
    "EXPECTS.head()"
   ]
  },
  {
   "cell_type": "code",
   "execution_count": 35,
   "metadata": {
    "collapsed": false
   },
   "outputs": [
    {
     "data": {
      "text/plain": [
       "trip_id                  int64\n",
       "stop_id                  int64\n",
       "arrival_time            object\n",
       "departure_time          object\n",
       "shape_dist_traveled    float64\n",
       "stop_lat               float64\n",
       "stop_lon               float64\n",
       "stop_name               object\n",
       "route_id                 int64\n",
       "route_short_name        object\n",
       "dtype: object"
      ]
     },
     "execution_count": 35,
     "metadata": {},
     "output_type": "execute_result"
    }
   ],
   "source": [
    "EXPECTS.dtypes"
   ]
  },
  {
   "cell_type": "code",
   "execution_count": 36,
   "metadata": {
    "collapsed": false
   },
   "outputs": [
    {
     "data": {
      "text/html": [
       "<div>\n",
       "<table border=\"1\" class=\"dataframe\">\n",
       "  <thead>\n",
       "    <tr style=\"text-align: right;\">\n",
       "      <th></th>\n",
       "      <th>trip_id</th>\n",
       "      <th>stop_id</th>\n",
       "      <th>arrival_time</th>\n",
       "      <th>departure_time</th>\n",
       "      <th>shape_dist_traveled</th>\n",
       "      <th>stop_lat</th>\n",
       "      <th>stop_lon</th>\n",
       "      <th>stop_name</th>\n",
       "      <th>route_id</th>\n",
       "      <th>route_short_name</th>\n",
       "    </tr>\n",
       "  </thead>\n",
       "  <tbody>\n",
       "    <tr>\n",
       "      <th>0</th>\n",
       "      <td>1_18155895</td>\n",
       "      <td>1_450</td>\n",
       "      <td>06:45:15</td>\n",
       "      <td>06:45:15</td>\n",
       "      <td>0.0</td>\n",
       "      <td>47.608250</td>\n",
       "      <td>-122.336548</td>\n",
       "      <td>3rd Ave &amp; Union St</td>\n",
       "      <td>100173</td>\n",
       "      <td>3</td>\n",
       "    </tr>\n",
       "    <tr>\n",
       "      <th>1</th>\n",
       "      <td>1_18155895</td>\n",
       "      <td>1_480</td>\n",
       "      <td>06:48:14</td>\n",
       "      <td>06:48:14</td>\n",
       "      <td>1397.4</td>\n",
       "      <td>47.604996</td>\n",
       "      <td>-122.333572</td>\n",
       "      <td>3rd Ave &amp; Marion St</td>\n",
       "      <td>100173</td>\n",
       "      <td>3</td>\n",
       "    </tr>\n",
       "    <tr>\n",
       "      <th>2</th>\n",
       "      <td>1_18155895</td>\n",
       "      <td>1_1560</td>\n",
       "      <td>06:50:39</td>\n",
       "      <td>06:50:39</td>\n",
       "      <td>2521.4</td>\n",
       "      <td>47.602932</td>\n",
       "      <td>-122.330826</td>\n",
       "      <td>James St &amp; 3rd Ave</td>\n",
       "      <td>100173</td>\n",
       "      <td>3</td>\n",
       "    </tr>\n",
       "    <tr>\n",
       "      <th>3</th>\n",
       "      <td>1_18155895</td>\n",
       "      <td>1_1570</td>\n",
       "      <td>06:51:40</td>\n",
       "      <td>06:51:40</td>\n",
       "      <td>3112.8</td>\n",
       "      <td>47.603786</td>\n",
       "      <td>-122.328789</td>\n",
       "      <td>James St &amp; 5th Ave</td>\n",
       "      <td>100173</td>\n",
       "      <td>3</td>\n",
       "    </tr>\n",
       "    <tr>\n",
       "      <th>4</th>\n",
       "      <td>1_18155895</td>\n",
       "      <td>1_12900</td>\n",
       "      <td>06:53:18</td>\n",
       "      <td>06:53:18</td>\n",
       "      <td>4068.2</td>\n",
       "      <td>47.605164</td>\n",
       "      <td>-122.325500</td>\n",
       "      <td>James St &amp; 8th Ave</td>\n",
       "      <td>100173</td>\n",
       "      <td>3</td>\n",
       "    </tr>\n",
       "  </tbody>\n",
       "</table>\n",
       "</div>"
      ],
      "text/plain": [
       "      trip_id  stop_id arrival_time departure_time  shape_dist_traveled  \\\n",
       "0  1_18155895    1_450     06:45:15       06:45:15                  0.0   \n",
       "1  1_18155895    1_480     06:48:14       06:48:14               1397.4   \n",
       "2  1_18155895   1_1560     06:50:39       06:50:39               2521.4   \n",
       "3  1_18155895   1_1570     06:51:40       06:51:40               3112.8   \n",
       "4  1_18155895  1_12900     06:53:18       06:53:18               4068.2   \n",
       "\n",
       "    stop_lat    stop_lon            stop_name  route_id route_short_name  \n",
       "0  47.608250 -122.336548   3rd Ave & Union St    100173                3  \n",
       "1  47.604996 -122.333572  3rd Ave & Marion St    100173                3  \n",
       "2  47.602932 -122.330826   James St & 3rd Ave    100173                3  \n",
       "3  47.603786 -122.328789   James St & 5th Ave    100173                3  \n",
       "4  47.605164 -122.325500   James St & 8th Ave    100173                3  "
      ]
     },
     "execution_count": 36,
     "metadata": {},
     "output_type": "execute_result"
    }
   ],
   "source": [
    "EXPECTS['trip_id'] = '1_' + EXPECTS['trip_id'].astype(str)\n",
    "EXPECTS['stop_id'] = '1_' + EXPECTS['stop_id'].astype(str)\n",
    "EXPECTS.head()"
   ]
  },
  {
   "cell_type": "code",
   "execution_count": 39,
   "metadata": {
    "collapsed": false
   },
   "outputs": [
    {
     "data": {
      "text/plain": [
       "trip_id                 object\n",
       "stop_id                 object\n",
       "arrival_time            object\n",
       "departure_time          object\n",
       "shape_dist_traveled    float64\n",
       "stop_lat               float64\n",
       "stop_lon               float64\n",
       "stop_name               object\n",
       "route_id                 int64\n",
       "route_short_name        object\n",
       "dtype: object"
      ]
     },
     "execution_count": 39,
     "metadata": {},
     "output_type": "execute_result"
    }
   ],
   "source": [
    "EXPECTS.dtypes"
   ]
  },
  {
   "cell_type": "code",
   "execution_count": null,
   "metadata": {
    "collapsed": true
   },
   "outputs": [],
   "source": []
  }
 ],
 "metadata": {
  "kernelspec": {
   "display_name": "Python 2",
   "language": "python",
   "name": "python2"
  },
  "language_info": {
   "codemirror_mode": {
    "name": "ipython",
    "version": 2
   },
   "file_extension": ".py",
   "mimetype": "text/x-python",
   "name": "python",
   "nbconvert_exporter": "python",
   "pygments_lexer": "ipython2",
   "version": "2.7.11"
  }
 },
 "nbformat": 4,
 "nbformat_minor": 0
}
