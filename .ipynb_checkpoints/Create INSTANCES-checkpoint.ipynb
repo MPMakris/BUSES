{
 "cells": [
  {
   "cell_type": "code",
   "execution_count": 1,
   "metadata": {
    "collapsed": true
   },
   "outputs": [],
   "source": [
    "%matplotlib inline\n",
    "import numpy as np\n",
    "import pandas as pd\n",
    "import os"
   ]
  },
  {
   "cell_type": "markdown",
   "metadata": {},
   "source": [
    "### Create the INSTANCES for Whole Agencies"
   ]
  },
  {
   "cell_type": "code",
   "execution_count": 14,
   "metadata": {
    "collapsed": true
   },
   "outputs": [],
   "source": [
    "agency_number = 1\n",
    "if type(agency_number) == int:\n",
    "    agency_number = str(agency_number)"
   ]
  },
  {
   "cell_type": "code",
   "execution_count": 15,
   "metadata": {
    "collapsed": true
   },
   "outputs": [],
   "source": [
    "directory = os.listdir('./Position_Data_Records/')\n",
    "directory.remove('.DS_Store')\n",
    "routes_file_loc = './Agency-Info/' + agency_number + '_gtfs/routes.txt'"
   ]
  },
  {
   "cell_type": "code",
   "execution_count": 16,
   "metadata": {
    "collapsed": false
   },
   "outputs": [],
   "source": [
    "positions_file_locs =  ['./Position_Data_Records/' + p for p in directory]"
   ]
  },
  {
   "cell_type": "code",
   "execution_count": 17,
   "metadata": {
    "collapsed": false
   },
   "outputs": [],
   "source": [
    "correct_pos_files_iden = [loc.find(\"_\" + agency_number + \"_\") for loc in positions_file_locs]"
   ]
  },
  {
   "cell_type": "code",
   "execution_count": 18,
   "metadata": {
    "collapsed": true
   },
   "outputs": [],
   "source": [
    "correct_pos_files_loc = []\n",
    "for i in range(len(correct_pos_files_iden)):\n",
    "    if correct_pos_files_iden[i]!=-1:\n",
    "        correct_pos_files_loc.append(positions_file_locs[i])"
   ]
  },
  {
   "cell_type": "code",
   "execution_count": 19,
   "metadata": {
    "collapsed": false
   },
   "outputs": [],
   "source": [
    "databases = [pd.read_csv(loc) for loc in correct_pos_files_loc]\n",
    "routes_data = pd.read_csv(routes_file_loc, usecols=['agency_id', 'route_id', 'route_short_name'])"
   ]
  },
  {
   "cell_type": "code",
   "execution_count": 20,
   "metadata": {
    "collapsed": false
   },
   "outputs": [],
   "source": [
    "databases_cleaned = [db.dropna() for db in databases]"
   ]
  },
  {
   "cell_type": "code",
   "execution_count": 21,
   "metadata": {
    "collapsed": false
   },
   "outputs": [],
   "source": [
    "try:\n",
    "    INSTANCES = databases_cleaned[0].append(databases_cleaned[1:])\n",
    "except:\n",
    "    print \"Cannot Create INSTANCES for this Agency\"\n",
    "    INSTANCES = pd.DataFrame([])"
   ]
  },
  {
   "cell_type": "code",
   "execution_count": 22,
   "metadata": {
    "collapsed": false
   },
   "outputs": [],
   "source": [
    "routes_data['route_id'] = routes_data['agency_id'].astype(str) + \"_\" + routes_data['route_id'].astype(str) \n",
    "routes_data['route_short_name'] = routes_data['agency_id'].astype(str) + \"_\" + routes_data['route_short_name'].astype(str) "
   ]
  },
  {
   "cell_type": "code",
   "execution_count": 23,
   "metadata": {
    "collapsed": false
   },
   "outputs": [
    {
     "data": {
      "text/html": [
       "<div>\n",
       "<table border=\"1\" class=\"dataframe\">\n",
       "  <thead>\n",
       "    <tr style=\"text-align: right;\">\n",
       "      <th></th>\n",
       "      <th>Agency_Id</th>\n",
       "      <th>Route_Id</th>\n",
       "      <th>Route_Short_Name</th>\n",
       "    </tr>\n",
       "  </thead>\n",
       "  <tbody>\n",
       "    <tr>\n",
       "      <th>0</th>\n",
       "      <td>1</td>\n",
       "      <td>1_100001</td>\n",
       "      <td>1_1</td>\n",
       "    </tr>\n",
       "    <tr>\n",
       "      <th>1</th>\n",
       "      <td>1</td>\n",
       "      <td>1_100002</td>\n",
       "      <td>1_10</td>\n",
       "    </tr>\n",
       "    <tr>\n",
       "      <th>2</th>\n",
       "      <td>1</td>\n",
       "      <td>1_100003</td>\n",
       "      <td>1_101</td>\n",
       "    </tr>\n",
       "    <tr>\n",
       "      <th>3</th>\n",
       "      <td>1</td>\n",
       "      <td>1_100004</td>\n",
       "      <td>1_105</td>\n",
       "    </tr>\n",
       "    <tr>\n",
       "      <th>4</th>\n",
       "      <td>1</td>\n",
       "      <td>1_100005</td>\n",
       "      <td>1_106</td>\n",
       "    </tr>\n",
       "  </tbody>\n",
       "</table>\n",
       "</div>"
      ],
      "text/plain": [
       "  Agency_Id  Route_Id Route_Short_Name\n",
       "0         1  1_100001              1_1\n",
       "1         1  1_100002             1_10\n",
       "2         1  1_100003            1_101\n",
       "3         1  1_100004            1_105\n",
       "4         1  1_100005            1_106"
      ]
     },
     "execution_count": 23,
     "metadata": {},
     "output_type": "execute_result"
    }
   ],
   "source": [
    "routes_data.columns = ['Agency_Id', 'Route_Id', \"Route_Short_Name\"]\n",
    "routes_data.head()"
   ]
  },
  {
   "cell_type": "code",
   "execution_count": 24,
   "metadata": {
    "collapsed": false
   },
   "outputs": [],
   "source": [
    "INSTANCES = INSTANCES.merge(routes_data[['Route_Id', 'Route_Short_Name']], how=\"left\", on='Route_Id')"
   ]
  },
  {
   "cell_type": "code",
   "execution_count": 25,
   "metadata": {
    "collapsed": false
   },
   "outputs": [],
   "source": [
    "INSTANCES.to_csv('./INSTANCES_Databases_Whole/INSTANCES_' + agency_number + '_Whole.txt', sep=',', na_rep='NA', index=False, mode = 'wb')"
   ]
  },
  {
   "cell_type": "markdown",
   "metadata": {},
   "source": [
    "### Create INSTANCES for One Route at Once Agency"
   ]
  },
  {
   "cell_type": "code",
   "execution_count": 34,
   "metadata": {
    "collapsed": false
   },
   "outputs": [],
   "source": [
    "route_number = 2\n",
    "if type(route_number) == int:\n",
    "    route_number = str(route_number)"
   ]
  },
  {
   "cell_type": "code",
   "execution_count": 35,
   "metadata": {
    "collapsed": false
   },
   "outputs": [],
   "source": [
    "INSTANCES_ROUTE = INSTANCES[INSTANCES['Route_Short_Name']==agency_number + \"_\" + route_number]"
   ]
  },
  {
   "cell_type": "code",
   "execution_count": 36,
   "metadata": {
    "collapsed": false
   },
   "outputs": [],
   "source": [
    "INSTANCES_ROUTE.to_csv('./INSTANCES_Databases_Routes/' + agency_number + '/' + 'INSTANCES_' + agency_number + '_Route_' + route_number + '.txt', sep=',', na_rep='NA', index=False, mode = 'wb')"
   ]
  }
 ],
 "metadata": {
  "kernelspec": {
   "display_name": "Python 2",
   "language": "python",
   "name": "python2"
  },
  "language_info": {
   "codemirror_mode": {
    "name": "ipython",
    "version": 2
   },
   "file_extension": ".py",
   "mimetype": "text/x-python",
   "name": "python",
   "nbconvert_exporter": "python",
   "pygments_lexer": "ipython2",
   "version": "2.7.11"
  }
 },
 "nbformat": 4,
 "nbformat_minor": 0
}
