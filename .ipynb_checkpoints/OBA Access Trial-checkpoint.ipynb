{
 "cells": [
  {
   "cell_type": "markdown",
   "metadata": {},
   "source": [
    "# This is a working file to create the functions to get current bus poistions from OBA api for Sound Transit agencies.\n",
    "---"
   ]
  },
  {
   "cell_type": "markdown",
   "metadata": {},
   "source": [
    "### Get OBA Info, Set Agency ID"
   ]
  },
  {
   "cell_type": "code",
   "execution_count": 73,
   "metadata": {
    "collapsed": false
   },
   "outputs": [
    {
     "name": "stdout",
     "output_type": "stream",
     "text": [
      "Key: 66fae88a-fcc9-4ceb-958d-3932f378c161\n",
      "Agency ID: 1\n"
     ]
    }
   ],
   "source": [
    "with open('OBA_API_Key.txt') as key_file:\n",
    "    key_mpm = key_file.read()\n",
    "print \"Key:\", key_mpm\n",
    "\n",
    "agency_ID = \"1\"\n",
    "print \"Agency ID:\",agency_ID"
   ]
  },
  {
   "cell_type": "code",
   "execution_count": 74,
   "metadata": {
    "collapsed": false
   },
   "outputs": [
    {
     "name": "stdout",
     "output_type": "stream",
     "text": [
      "http://api.pugetsound.onebusaway.org/\n"
     ]
    }
   ],
   "source": [
    "with open('OBA_Server_Location.txt', 'r') as server_file:\n",
    "    oba_url = server_file.read()\n",
    "print oba_url"
   ]
  },
  {
   "cell_type": "markdown",
   "metadata": {},
   "source": [
    "### Imports"
   ]
  },
  {
   "cell_type": "code",
   "execution_count": 75,
   "metadata": {
    "collapsed": true
   },
   "outputs": [],
   "source": [
    "import numpy as np\n",
    "import pandas as pd\n",
    "import requests\n",
    "import re\n",
    "from bs4 import BeautifulSoup as BS\n",
    "import csv"
   ]
  },
  {
   "cell_type": "markdown",
   "metadata": {},
   "source": [
    "### Get 'Alerts' Trial"
   ]
  },
  {
   "cell_type": "code",
   "execution_count": 50,
   "metadata": {
    "collapsed": false
   },
   "outputs": [
    {
     "data": {
      "text/plain": [
       "'http://api.pugetsound.onebusaway.org/api/gtfs_realtime/alerts-for-agency/1.pbtext?key=66fae88a-fcc9-4ceb-958d-3932f378c161'"
      ]
     },
     "execution_count": 50,
     "metadata": {},
     "output_type": "execute_result"
    }
   ],
   "source": [
    "request_alerts = oba_url + 'api/gtfs_realtime/alerts-for-agency/'+agency_ID+'.pbtext?key=' + key_mpm + \"&removeAgencyIds=false\"\n",
    "request_positions\n",
    "request_alerts"
   ]
  },
  {
   "cell_type": "code",
   "execution_count": 6,
   "metadata": {
    "collapsed": false
   },
   "outputs": [
    {
     "data": {
      "text/plain": [
       "200"
      ]
     },
     "execution_count": 6,
     "metadata": {},
     "output_type": "execute_result"
    }
   ],
   "source": [
    "r = requests.get(request_alerts)\n",
    "r.status_code"
   ]
  },
  {
   "cell_type": "code",
   "execution_count": 59,
   "metadata": {
    "collapsed": false
   },
   "outputs": [
    {
     "name": "stdout",
     "output_type": "stream",
     "text": [
      "header {\n",
      "  gtfs_realtime_version: \"1.0\"\n",
      "  timestamp: 1459837045\n",
      "}\n",
      "\n"
     ]
    }
   ],
   "source": [
    "print r.content"
   ]
  },
  {
   "cell_type": "markdown",
   "metadata": {},
   "source": [
    "### Get 'Positions' Trial"
   ]
  },
  {
   "cell_type": "code",
   "execution_count": 51,
   "metadata": {
    "collapsed": false
   },
   "outputs": [
    {
     "data": {
      "text/plain": [
       "'http://api.pugetsound.onebusaway.org/api/gtfs_realtime/vehicle-positions-for-agency/1.pbtext?key=66fae88a-fcc9-4ceb-958d-3932f378c161&removeAgencyIds=false'"
      ]
     },
     "execution_count": 51,
     "metadata": {},
     "output_type": "execute_result"
    }
   ],
   "source": [
    "request_positions = oba_url + 'api/gtfs_realtime/vehicle-positions-for-agency/' + agency_ID + '.pbtext?key=' + key_mpm + \"&removeAgencyIds=false\"\n",
    "request_positions"
   ]
  },
  {
   "cell_type": "code",
   "execution_count": 52,
   "metadata": {
    "collapsed": false
   },
   "outputs": [
    {
     "data": {
      "text/plain": [
       "200"
      ]
     },
     "execution_count": 52,
     "metadata": {},
     "output_type": "execute_result"
    }
   ],
   "source": [
    "r = requests.get(request_positions)\n",
    "r.status_code"
   ]
  },
  {
   "cell_type": "code",
   "execution_count": 53,
   "metadata": {
    "collapsed": true
   },
   "outputs": [],
   "source": [
    "positions_raw = r.content"
   ]
  },
  {
   "cell_type": "code",
   "execution_count": 115,
   "metadata": {
    "collapsed": false
   },
   "outputs": [],
   "source": [
    "begin_header = positions_raw.find(\"header\")\n",
    "end_header = positions_raw.find(\"}\")\n",
    "pos_header = positions_raw[begin_header:end_header+1]\n",
    "\n",
    "loc_entity = [i.start() for i in re.finditer(\"entity\", positions_raw)]\n",
    "pos_entities = []\n",
    "for i in loc_entity:\n",
    "    if i!=loc_entity[-1]:\n",
    "        pos_entities.append(positions_raw[i:(loc_entity[loc_entity.index(i)+1]-1)])\n",
    "    else:\n",
    "        pos_entities.append(positions_raw[i:-1])\n"
   ]
  },
  {
   "cell_type": "code",
   "execution_count": 116,
   "metadata": {
    "collapsed": false,
    "scrolled": true
   },
   "outputs": [
    {
     "name": "stdout",
     "output_type": "stream",
     "text": [
      "header {\n",
      "  gtfs_realtime_version: \"1.0\"\n",
      "  timestamp: 1459836597\n",
      "}\n",
      "entity {\n",
      "  id: \"8\"\n",
      "  vehicle {\n",
      "    trip {\n",
      "      trip_id: \"1_30973639\"\n",
      "      route_id: \"1_100225\"\n",
      "    }\n",
      "    position {\n",
      "      latitude: 47.690582\n",
      "      longitude: -122.35099\n",
      "    }\n",
      "    timestamp: 1459836505\n",
      "    vehicle {\n",
      "      id: \"1_3646\"\n",
      "    }\n",
      "  }\n",
      "}\n"
     ]
    }
   ],
   "source": [
    "print pos_header\n",
    "print pos_entities[7]"
   ]
  },
  {
   "cell_type": "code",
   "execution_count": 117,
   "metadata": {
    "collapsed": false
   },
   "outputs": [
    {
     "name": "stdout",
     "output_type": "stream",
     "text": [
      "Timestamp:\n",
      "1459836597\n"
     ]
    }
   ],
   "source": [
    "loc_timestamp = pos_header.find(\"timestamp\")\n",
    "loc_newline = pos_header.find(\"\\n\", loc_timestamp)\n",
    "pos_timestamp=int(header[loc_timestamp:loc_newline].replace(\"timestamp: \",\"\"))\n",
    "print \"Timestamp:\\n\",pos_timestamp"
   ]
  },
  {
   "cell_type": "code",
   "execution_count": 26,
   "metadata": {
    "collapsed": false
   },
   "outputs": [
    {
     "name": "stdout",
     "output_type": "stream",
     "text": [
      "vehicle {\n",
      "    position {\n",
      "      latitude: 47.192806\n",
      "      longitude: -122.2956\n",
      "    }\n",
      "    timestamp: 1459807691\n",
      "    vehicle {\n",
      "      id: \"258\"\n",
      "    }\n",
      "  }\n"
     ]
    }
   ],
   "source": [
    "vehicles=[]\n",
    "for i in pos_entities:\n",
    "    loc_vehicle = i.find(\"vehicle\")\n",
    "    loc_cbrackets = [j.start() for j in re.finditer(\"}\", i)]\n",
    "    vehicles.append(i[loc_vehicle:loc_cbrackets[-2]+1])\n",
    "\n",
    "print vehicles[0]"
   ]
  },
  {
   "cell_type": "code",
   "execution_count": 27,
   "metadata": {
    "collapsed": false
   },
   "outputs": [
    {
     "name": "stdout",
     "output_type": "stream",
     "text": [
      "header {\n",
      "  gtfs_realtime_version: \"1.0\"\n",
      "  timestamp: 1459832835\n",
      "}\n",
      "[]\n",
      "[]\n"
     ]
    }
   ],
   "source": [
    "trip_ids=[]\n",
    "route_ids=[]\n",
    "for i in vehicles:\n",
    "    loc_trip = i.find(\"trip\")\n",
    "    if loc_trip == -1:\n",
    "        trip_ids.append([])\n",
    "        route_ids.append([])\n",
    "        continue\n",
    "    loc_trip_id = i.find(\"trip_id\",loc_trip)\n",
    "    loc_route_id = i.find(\"route_id\", loc_trip)\n",
    "    \n",
    "    loc_newline = i.find(\"\\n\", loc_trip_id)\n",
    "    trip_id = int(i[loc_trip_id:loc_newline].replace(\"trip_id: \",\"\").replace('\"',''))\n",
    "    trip_ids.append(trip_id)\n",
    "    \n",
    "    loc_newline = i.find(\"\\n\", loc_route_id)\n",
    "    route_id = int(i[loc_route_id:loc_newline].replace(\"route_id: \",\"\").replace('\"',''))\n",
    "    route_ids.append(route_id)\n",
    "\n",
    "print header\n",
    "print trip_ids[0]\n",
    "print route_ids[0]"
   ]
  },
  {
   "cell_type": "code",
   "execution_count": 28,
   "metadata": {
    "collapsed": false
   },
   "outputs": [
    {
     "name": "stdout",
     "output_type": "stream",
     "text": [
      "position {\n",
      "      latitude: 47.192806\n",
      "      longitude: -122.2956\n",
      "    }\n"
     ]
    }
   ],
   "source": [
    "positions=[]\n",
    "for i in vehicles:\n",
    "    loc_position = i.find(\"position\")\n",
    "    if loc_position == -1:\n",
    "        positions.append([])\n",
    "        continue\n",
    "    loc_cbracket = i.find(\"}\",loc_position)\n",
    "    positions.append(i[loc_position:loc_cbracket+1])\n",
    "\n",
    "print positions[0]"
   ]
  },
  {
   "cell_type": "code",
   "execution_count": 29,
   "metadata": {
    "collapsed": false
   },
   "outputs": [
    {
     "name": "stdout",
     "output_type": "stream",
     "text": [
      "47.192806\n"
     ]
    }
   ],
   "source": [
    "latitudes=[]\n",
    "for i in vehicles:\n",
    "    loc_latitude = i.find(\"latitude\")\n",
    "    if loc_latitude == -1:\n",
    "        latitudes.append([])\n",
    "        continue\n",
    "    loc_newline = i.find(\"\\n\",loc_latitude)\n",
    "    num = float(i[loc_latitude:loc_newline].replace(\"latitude: \",\"\"))\n",
    "    latitudes.append(num)\n",
    "\n",
    "print latitudes[0]"
   ]
  },
  {
   "cell_type": "code",
   "execution_count": 30,
   "metadata": {
    "collapsed": false
   },
   "outputs": [
    {
     "name": "stdout",
     "output_type": "stream",
     "text": [
      "-122.2956\n"
     ]
    }
   ],
   "source": [
    "longitudes=[]\n",
    "for i in vehicles:\n",
    "    loc_longitude = i.find(\"longitude\")\n",
    "    if loc_longitude == -1:\n",
    "        longitudes.append([])\n",
    "        continue\n",
    "    loc_newline = i.find(\"\\n\",loc_longitude)\n",
    "    num = float(i[loc_longitude:loc_newline].replace(\"longitude: \",\"\"))\n",
    "    longitudes.append(num)\n",
    "\n",
    "print longitudes[0]"
   ]
  },
  {
   "cell_type": "code",
   "execution_count": 31,
   "metadata": {
    "collapsed": false
   },
   "outputs": [
    {
     "name": "stdout",
     "output_type": "stream",
     "text": [
      "1459807691\n"
     ]
    }
   ],
   "source": [
    "timestamps=[]\n",
    "for i in vehicles:\n",
    "    loc_timestamp = i.find(\"timestamp\")\n",
    "    if loc_longitude == -1:\n",
    "        timestamps.append([])\n",
    "        continue\n",
    "    loc_newline = i.find(\"\\n\",loc_timestamp)\n",
    "    num = int(i[loc_timestamp:loc_newline].replace(\"timestamp: \",\"\"))\n",
    "    timestamps.append(num)\n",
    "\n",
    "print timestamps[0]"
   ]
  },
  {
   "cell_type": "code",
   "execution_count": 33,
   "metadata": {
    "collapsed": false
   },
   "outputs": [
    {
     "name": "stdout",
     "output_type": "stream",
     "text": [
      "258\n"
     ]
    }
   ],
   "source": [
    "vehicle_ids=[]\n",
    "for i in vehicles:\n",
    "    loc_vehicle_info = [j.start() for j in re.finditer(\"vehicle\", i)]\n",
    "    loc_vehicle_section = i.find(\"vehicle\", loc_vehicle_info[1])\n",
    "    if loc_vehicle_info == -1:\n",
    "        vehicle_ids.append([])\n",
    "        continue\n",
    "    loc_vehicle_id = i.find(\"id\", loc_vehicle_section)\n",
    "    loc_newline = i.find(\"\\n\", loc_vehicle_id)\n",
    "    num = int(i[loc_vehicle_id:loc_newline].replace(\"id: \",\"\").replace('\"',''))\n",
    "    vehicle_ids.append(num)\n",
    "\n",
    "print vehicle_ids[0]"
   ]
  },
  {
   "cell_type": "code",
   "execution_count": 56,
   "metadata": {
    "collapsed": false
   },
   "outputs": [],
   "source": [
    "with open('./Position_Data_Records/Positions_'+agency_ID+\"_\"+str(call_timestamp)+\".csv\", 'w') as myfile:\n",
    "    wr = csv.writer(myfile, delimiter = ',', quoting=csv.QUOTE_NONE)\n",
    "    wr.writerow((\"Vehicle_Id\", \"Timestamp\", \"Trip_Id\", \"Route_Id\", \"Latitude\", \"Longitude\"))\n",
    "    for i in range(len(vehicles)):\n",
    "        wr.writerow((vehicle_ids[i],timestamps[i],trip_ids[i],route_ids[i],latitudes[i],longitudes[i]))"
   ]
  },
  {
   "cell_type": "markdown",
   "metadata": {},
   "source": [
    "### Get Current System Time"
   ]
  },
  {
   "cell_type": "code",
   "execution_count": 76,
   "metadata": {
    "collapsed": false
   },
   "outputs": [
    {
     "data": {
      "text/plain": [
       "'http://api.pugetsound.onebusaway.org/api/where/current-time.xml?key=66fae88a-fcc9-4ceb-958d-3932f378c161'"
      ]
     },
     "execution_count": 76,
     "metadata": {},
     "output_type": "execute_result"
    }
   ],
   "source": [
    "request_system_time = oba_url + 'api/where/current-time.xml?key=' + str(key_mpm)\n",
    "request_system_time"
   ]
  },
  {
   "cell_type": "code",
   "execution_count": 77,
   "metadata": {
    "collapsed": false
   },
   "outputs": [
    {
     "data": {
      "text/plain": [
       "200"
      ]
     },
     "execution_count": 77,
     "metadata": {},
     "output_type": "execute_result"
    }
   ],
   "source": [
    "r = requests.get(request_system_time)\n",
    "r.status_code"
   ]
  },
  {
   "cell_type": "code",
   "execution_count": 78,
   "metadata": {
    "collapsed": false
   },
   "outputs": [
    {
     "name": "stdout",
     "output_type": "stream",
     "text": [
      "<?xml version=\"1.0\" encoding=\"utf-8\"?>\n",
      "<response>\n",
      "<version>2</version>\n",
      "<code>200</code>\n",
      "<currentTime>1459837353223</currentTime>\n",
      "<text>OK</text>\n",
      "<data class=\"entryWithReferences\">\n",
      "<references/>\n",
      "<entry class=\"time\">\n",
      "<time>1459837353223</time>\n",
      "<readableTime>2016-04-04T23:22:33-07:00</readableTime>\n",
      "</entry>\n",
      "</data>\n",
      "</response>\n"
     ]
    }
   ],
   "source": [
    "b = BS(r.content, \"xml\")\n",
    "print b"
   ]
  },
  {
   "cell_type": "markdown",
   "metadata": {
    "collapsed": true
   },
   "source": [
    "### Get Trip Updates Trial"
   ]
  },
  {
   "cell_type": "code",
   "execution_count": 134,
   "metadata": {
    "collapsed": false
   },
   "outputs": [
    {
     "data": {
      "text/plain": [
       "'http://api.pugetsound.onebusaway.org/api/gtfs_realtime/trip-updates-for-agency/1.pbtext?key=66fae88a-fcc9-4ceb-958d-3932f378c161&removeAgencyIds=false'"
      ]
     },
     "execution_count": 134,
     "metadata": {},
     "output_type": "execute_result"
    }
   ],
   "source": [
    "request_trip_updates = oba_url + 'api/gtfs_realtime/trip-updates-for-agency/' + agency_ID + '.pbtext?key=' + key_mpm + \"&removeAgencyIds=false\"\n",
    "request_trip_updates"
   ]
  },
  {
   "cell_type": "code",
   "execution_count": 135,
   "metadata": {
    "collapsed": false
   },
   "outputs": [
    {
     "data": {
      "text/plain": [
       "200"
      ]
     },
     "execution_count": 135,
     "metadata": {},
     "output_type": "execute_result"
    }
   ],
   "source": [
    "r = requests.get(request_trip_updates)\n",
    "r.status_code"
   ]
  },
  {
   "cell_type": "code",
   "execution_count": 136,
   "metadata": {
    "collapsed": false
   },
   "outputs": [],
   "source": [
    "trip_updates_raw = r.content\n",
    "#print trip_updates_raw"
   ]
  },
  {
   "cell_type": "code",
   "execution_count": 137,
   "metadata": {
    "collapsed": true
   },
   "outputs": [],
   "source": [
    "begin_header = trip_updates_raw.find(\"header\")\n",
    "end_header = trip_updates_raw.find(\"}\")\n",
    "trip_updates_header = trip_updates_raw[begin_header:end_header+1]\n",
    "\n",
    "loc_entity = [i.start() for i in re.finditer(\"entity\", trip_updates_raw)]\n",
    "trip_updates_entities = []\n",
    "for i in loc_entity:\n",
    "    if i!=loc_entity[-1]:\n",
    "        trip_updates_entities.append(trip_updates_raw[i:(loc_entity[loc_entity.index(i)+1]-1)])\n",
    "    else:\n",
    "        trip_updates_entities.append(trip_updates_raw[i:-1])\n"
   ]
  },
  {
   "cell_type": "code",
   "execution_count": 138,
   "metadata": {
    "collapsed": false
   },
   "outputs": [
    {
     "name": "stdout",
     "output_type": "stream",
     "text": [
      "header {\n",
      "  gtfs_realtime_version: \"1.0\"\n",
      "  timestamp: 1459838211\n",
      "}\n",
      "entity {\n",
      "  id: \"1\"\n",
      "  trip_update {\n",
      "    trip {\n",
      "      trip_id: \"1_30973639\"\n",
      "      route_id: \"1_100225\"\n",
      "    }\n",
      "    stop_time_update {\n",
      "      arrival {\n",
      "      }\n",
      "      departure {\n",
      "        time: 1459839091\n",
      "      }\n",
      "      stop_id: \"1_98360\"\n",
      "    }\n",
      "    vehicle {\n",
      "      id: \"1_3646\"\n",
      "    }\n",
      "    timestamp: 1459838125\n",
      "    delay: 0\n",
      "  }\n",
      "}\n"
     ]
    }
   ],
   "source": [
    "print trip_updates_header\n",
    "print trip_updates_entities[0]"
   ]
  },
  {
   "cell_type": "code",
   "execution_count": 140,
   "metadata": {
    "collapsed": false
   },
   "outputs": [
    {
     "name": "stdout",
     "output_type": "stream",
     "text": [
      "Timestamp:\n",
      "1459838211\n"
     ]
    }
   ],
   "source": [
    "loc_timestamp = trip_updates_header.find(\"timestamp\")\n",
    "loc_newline = trip_updates_header.find(\"\\n\", loc_timestamp)\n",
    "trip_updates_timestamp=int(trip_updates_header[loc_timestamp:loc_newline].replace(\"timestamp: \",\"\"))\n",
    "print \"Timestamp:\\n\",trip_updates_timestamp"
   ]
  },
  {
   "cell_type": "code",
   "execution_count": 141,
   "metadata": {
    "collapsed": false
   },
   "outputs": [
    {
     "name": "stdout",
     "output_type": "stream",
     "text": [
      "vehicle {\n",
      "      id: \"1_3646\"\n",
      "    }\n",
      "    timestamp: 1459838125\n",
      "    delay: 0\n",
      "  }\n"
     ]
    }
   ],
   "source": [
    "vehicles=[]\n",
    "for i in trip_updates_entities:\n",
    "    loc_vehicle = i.find(\"vehicle\")\n",
    "    loc_cbrackets = [j.start() for j in re.finditer(\"}\", i)]\n",
    "    vehicles.append(i[loc_vehicle:loc_cbrackets[-2]+1])\n",
    "\n",
    "print vehicles[0]"
   ]
  },
  {
   "cell_type": "code",
   "execution_count": null,
   "metadata": {
    "collapsed": true
   },
   "outputs": [],
   "source": []
  }
 ],
 "metadata": {
  "kernelspec": {
   "display_name": "Python 2",
   "language": "python",
   "name": "python2"
  },
  "language_info": {
   "codemirror_mode": {
    "name": "ipython",
    "version": 2
   },
   "file_extension": ".py",
   "mimetype": "text/x-python",
   "name": "python",
   "nbconvert_exporter": "python",
   "pygments_lexer": "ipython2",
   "version": "2.7.11"
  }
 },
 "nbformat": 4,
 "nbformat_minor": 0
}
