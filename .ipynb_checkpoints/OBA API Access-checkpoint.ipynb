{
 "cells": [
  {
   "cell_type": "markdown",
   "metadata": {},
   "source": [
    "# This is a working file to create the functions to get:\n",
    "\n",
    "* Alerts\n",
    "* Current Vehicle Positions\n",
    "* Trip Updates\n",
    "\n",
    "# from the OBA API for Sound Transit agencies.\n",
    "---"
   ]
  },
  {
   "cell_type": "markdown",
   "metadata": {},
   "source": [
    "### Get OBA Info, Set Agency ID"
   ]
  },
  {
   "cell_type": "code",
   "execution_count": 77,
   "metadata": {
    "collapsed": false
   },
   "outputs": [],
   "source": [
    "with open('OBA_API_Key.txt') as key_file:\n",
    "    key_mpm = key_file.read()\n",
    "#print \"Key:\", key_mpm\n",
    "\n",
    "agency_ID = \"1\"\n",
    "#print \"Agency ID:\",agency_ID"
   ]
  },
  {
   "cell_type": "code",
   "execution_count": 78,
   "metadata": {
    "collapsed": false
   },
   "outputs": [],
   "source": [
    "with open('OBA_Server_Location.txt', 'r') as server_file:\n",
    "    oba_url = server_file.read()\n",
    "#print oba_url"
   ]
  },
  {
   "cell_type": "markdown",
   "metadata": {},
   "source": [
    "### Imports"
   ]
  },
  {
   "cell_type": "code",
   "execution_count": 79,
   "metadata": {
    "collapsed": true
   },
   "outputs": [],
   "source": [
    "#%matplotlib inline\n",
    "#import numpy as np\n",
    "#import pandas as pd\n",
    "import requests\n",
    "import re\n",
    "#from bs4 import BeautifulSoup as BS\n",
    "import csv\n",
    "import time"
   ]
  },
  {
   "cell_type": "markdown",
   "metadata": {},
   "source": [
    "### Acess API and Download Data"
   ]
  },
  {
   "cell_type": "code",
   "execution_count": 80,
   "metadata": {
    "collapsed": false
   },
   "outputs": [
    {
     "name": "stdout",
     "output_type": "stream",
     "text": [
      "Alerts Status:  200\n",
      "Positions Status:  200\n",
      "Trip Updates:  200\n",
      "http://api.pugetsound.onebusaway.org/api/gtfs_realtime/alerts-for-agency/1.pbtext?key=66fae88a-fcc9-4ceb-958d-3932f378c161&removeAgencyIds=false\n",
      "http://api.pugetsound.onebusaway.org/api/gtfs_realtime/vehicle-positions-for-agency/1.pbtext?key=66fae88a-fcc9-4ceb-958d-3932f378c161&removeAgencyIds=false\n",
      "http://api.pugetsound.onebusaway.org/api/gtfs_realtime/trip-updates-for-agency/1.pbtext?key=66fae88a-fcc9-4ceb-958d-3932f378c161&removeAgencyIds=false\n"
     ]
    }
   ],
   "source": [
    "api_alerts = oba_url + 'api/gtfs_realtime/alerts-for-agency/'+agency_ID+'.pbtext?key=' + key_mpm + \"&removeAgencyIds=false\"\n",
    "api_positions = oba_url + 'api/gtfs_realtime/vehicle-positions-for-agency/'+agency_ID+'.pbtext?key=' + key_mpm + \"&removeAgencyIds=false\"\n",
    "api_trip_updates = oba_url + 'api/gtfs_realtime/trip-updates-for-agency/'+agency_ID+'.pbtext?key=' + key_mpm + \"&removeAgencyIds=false\"\n",
    "\n",
    "r_alerts = requests.get(api_alerts)\n",
    "r_positions = requests.get(api_positions)\n",
    "r_trip_updates = requests.get(api_trip_updates)\n",
    "\n",
    "print \"Alerts Status: \", r_alerts.status_code\n",
    "print \"Positions Status: \", r_positions.status_code\n",
    "print \"Trip Updates: \", r_trip_updates.status_code\n",
    "print api_alerts\n",
    "print api_positions\n",
    "print api_trip_updates"
   ]
  },
  {
   "cell_type": "markdown",
   "metadata": {},
   "source": [
    "## Positions"
   ]
  },
  {
   "cell_type": "code",
   "execution_count": 81,
   "metadata": {
    "collapsed": true
   },
   "outputs": [],
   "source": [
    "positions_raw = r_positions.content"
   ]
  },
  {
   "cell_type": "code",
   "execution_count": 82,
   "metadata": {
    "collapsed": false
   },
   "outputs": [],
   "source": [
    "begin_header = positions_raw.find(\"header\")\n",
    "end_header = positions_raw.find(\"}\")\n",
    "pos_header = positions_raw[begin_header:end_header+1]\n",
    "\n",
    "loc_entity = [i.start() for i in re.finditer(\"entity\", positions_raw)]\n",
    "pos_entities = []\n",
    "for i in loc_entity:\n",
    "    if i!=loc_entity[-1]:\n",
    "        pos_entities.append(positions_raw[i:(loc_entity[loc_entity.index(i)+1]-1)])\n",
    "    else:\n",
    "        pos_entities.append(positions_raw[i:-1])"
   ]
  },
  {
   "cell_type": "code",
   "execution_count": 83,
   "metadata": {
    "collapsed": false,
    "scrolled": true
   },
   "outputs": [],
   "source": [
    "#print pos_header\n",
    "#print pos_entities[0]"
   ]
  },
  {
   "cell_type": "code",
   "execution_count": 84,
   "metadata": {
    "collapsed": false
   },
   "outputs": [],
   "source": [
    "loc_timestamp = pos_header.find(\"timestamp\")\n",
    "loc_newline = pos_header.find(\"\\n\", loc_timestamp)\n",
    "pos_call_timestamp=int(pos_header[loc_timestamp:loc_newline].replace(\"timestamp: \",\"\"))\n",
    "\n",
    "#print \"Positions Call Timestamp:\\n\",pos_call_timestamp"
   ]
  },
  {
   "cell_type": "code",
   "execution_count": 85,
   "metadata": {
    "collapsed": false
   },
   "outputs": [],
   "source": [
    "vehicles=[]\n",
    "for i in pos_entities:\n",
    "    loc_vehicle = i.find(\"vehicle\")\n",
    "    loc_cbrackets = [j.start() for j in re.finditer(\"}\", i)]\n",
    "    vehicles.append(i[loc_vehicle:loc_cbrackets[-2]+1])\n",
    "\n",
    "#print vehicles[0]"
   ]
  },
  {
   "cell_type": "code",
   "execution_count": 86,
   "metadata": {
    "collapsed": false
   },
   "outputs": [],
   "source": [
    "trip_ids=[]\n",
    "route_ids=[]\n",
    "for i in vehicles:\n",
    "    loc_trip = i.find(\"trip\")\n",
    "    if loc_trip == -1:\n",
    "        trip_ids.append(\"NA\")\n",
    "        route_ids.append(\"NA\")\n",
    "        continue\n",
    "    loc_trip_id = i.find(\"trip_id\",loc_trip)\n",
    "    loc_route_id = i.find(\"route_id\", loc_trip)\n",
    "    \n",
    "    loc_newline = i.find(\"\\n\", loc_trip_id)\n",
    "    trip_id = i[loc_trip_id:loc_newline].replace(\"trip_id: \",\"\").replace('\"','')\n",
    "    trip_ids.append(trip_id)\n",
    "    \n",
    "    loc_newline = i.find(\"\\n\", loc_route_id)\n",
    "    route_id = i[loc_route_id:loc_newline].replace(\"route_id: \",\"\").replace('\"','')\n",
    "    route_ids.append(route_id)\n",
    "\n",
    "#print trip_ids[0]\n",
    "#print route_ids[0]"
   ]
  },
  {
   "cell_type": "code",
   "execution_count": 87,
   "metadata": {
    "collapsed": false
   },
   "outputs": [
    {
     "name": "stdout",
     "output_type": "stream",
     "text": [
      "position {\n",
      "      latitude: 47.581806\n",
      "      longitude: -122.142586\n",
      "    }\n"
     ]
    }
   ],
   "source": [
    "vehicle_positions=[]\n",
    "for i in vehicles:\n",
    "    loc_position = i.find(\"position\")\n",
    "    if loc_position == -1:\n",
    "        vehicle_positions.append(\"NA\")\n",
    "        continue\n",
    "    loc_cbracket = i.find(\"}\",loc_position)\n",
    "    vehicle_positions.append(i[loc_position:loc_cbracket+1])\n",
    "\n",
    "print vehicle_positions[0]"
   ]
  },
  {
   "cell_type": "code",
   "execution_count": 88,
   "metadata": {
    "collapsed": false
   },
   "outputs": [],
   "source": [
    "vehicle_latitudes=[]\n",
    "for i in vehicles:\n",
    "    loc_latitude = i.find(\"latitude\")\n",
    "    if loc_latitude == -1:\n",
    "        vehicle_latitudes.append(\"NA\")\n",
    "        continue\n",
    "    loc_newline = i.find(\"\\n\",loc_latitude)\n",
    "    num = float(i[loc_latitude:loc_newline].replace(\"latitude: \",\"\"))\n",
    "    vehicle_latitudes.append(num)\n",
    "\n",
    "#print vehicle_latitudes[0]"
   ]
  },
  {
   "cell_type": "code",
   "execution_count": 89,
   "metadata": {
    "collapsed": false
   },
   "outputs": [],
   "source": [
    "vehicle_longitudes=[]\n",
    "for i in vehicles:\n",
    "    loc_longitude = i.find(\"longitude\")\n",
    "    if loc_longitude == -1:\n",
    "        vehicle_longitudes.append(\"NA\")\n",
    "        continue\n",
    "    loc_newline = i.find(\"\\n\",loc_longitude)\n",
    "    num = float(i[loc_longitude:loc_newline].replace(\"longitude: \",\"\"))\n",
    "    vehicle_longitudes.append(num)\n",
    "\n",
    "#print vehicle_longitudes[0]"
   ]
  },
  {
   "cell_type": "code",
   "execution_count": 90,
   "metadata": {
    "collapsed": false
   },
   "outputs": [],
   "source": [
    "vehicle_timestamps=[]\n",
    "for i in vehicles:\n",
    "    loc_timestamp = i.find(\"timestamp\")\n",
    "    if loc_longitude == -1:\n",
    "        vehicle_timestamps.append(\"NA\")\n",
    "        continue\n",
    "    loc_newline = i.find(\"\\n\",loc_timestamp)\n",
    "    num = int(i[loc_timestamp:loc_newline].replace(\"timestamp: \",\"\"))\n",
    "    vehicle_timestamps.append(num)\n",
    "\n",
    "#print vehicle_timestamps[0]"
   ]
  },
  {
   "cell_type": "code",
   "execution_count": 91,
   "metadata": {
    "collapsed": false
   },
   "outputs": [],
   "source": [
    "vehicle_ids=[]\n",
    "for i in vehicles:\n",
    "    loc_vehicle_info = [j.start() for j in re.finditer(\"vehicle\", i)]\n",
    "    loc_vehicle_section = i.find(\"vehicle\", loc_vehicle_info[1])\n",
    "    if loc_vehicle_info == -1:\n",
    "        vehicle_ids.append(\"NA\")\n",
    "        continue\n",
    "    loc_vehicle_id = i.find(\"id\", loc_vehicle_section)\n",
    "    loc_newline = i.find(\"\\n\", loc_vehicle_id)\n",
    "    num = i[loc_vehicle_id:loc_newline].replace(\"id: \",\"\").replace('\"','')\n",
    "    vehicle_ids.append(num)\n",
    "\n",
    "#print vehicle_ids[0]"
   ]
  },
  {
   "cell_type": "code",
   "execution_count": 92,
   "metadata": {
    "collapsed": false
   },
   "outputs": [],
   "source": [
    "with open('./Position_Data_Records/Positions_'+agency_ID+\"_\"+str(pos_call_timestamp)+\".csv\", 'w') as myfile:\n",
    "    wr = csv.writer(myfile, delimiter = ',', quoting=csv.QUOTE_NONE)\n",
    "    wr.writerow((\"Trip_Id\", \"Route_Id\", \"Vehicle_Id\", \"Vehicle_Timestamp\", \"Vehicle_Latitude\", \"Vehicle_Longitude\"))\n",
    "    for i in range(len(vehicles)):\n",
    "        wr.writerow((trip_ids[i],route_ids[i],vehicle_ids[i],vehicle_timestamps[i],vehicle_latitudes[i],vehicle_longitudes[i]))"
   ]
  },
  {
   "cell_type": "markdown",
   "metadata": {},
   "source": [
    "### Get Current System Time"
   ]
  },
  {
   "cell_type": "code",
   "execution_count": null,
   "metadata": {
    "collapsed": false
   },
   "outputs": [],
   "source": [
    "request_system_time = oba_url + 'api/where/current-time.xml?key=' + str(key_mpm)\n",
    "request_system_time"
   ]
  },
  {
   "cell_type": "code",
   "execution_count": null,
   "metadata": {
    "collapsed": false
   },
   "outputs": [],
   "source": [
    "r = requests.get(request_system_time)\n",
    "r.status_code"
   ]
  },
  {
   "cell_type": "code",
   "execution_count": null,
   "metadata": {
    "collapsed": false
   },
   "outputs": [],
   "source": [
    "b = BS(r.content, \"xml\")\n",
    "print b"
   ]
  },
  {
   "cell_type": "markdown",
   "metadata": {
    "collapsed": true
   },
   "source": [
    "## Trip Updates"
   ]
  },
  {
   "cell_type": "code",
   "execution_count": 93,
   "metadata": {
    "collapsed": false
   },
   "outputs": [],
   "source": [
    "trip_updates_raw = r_trip_updates.content\n",
    "#print trip_updates_raw"
   ]
  },
  {
   "cell_type": "code",
   "execution_count": 94,
   "metadata": {
    "collapsed": true
   },
   "outputs": [],
   "source": [
    "begin_header = trip_updates_raw.find(\"header\")\n",
    "end_header = trip_updates_raw.find(\"}\")\n",
    "trip_updates_header = trip_updates_raw[begin_header:end_header+1]\n",
    "\n",
    "loc_entity = [i.start() for i in re.finditer(\"entity\", trip_updates_raw)]\n",
    "trip_updates_entities = []\n",
    "for i in loc_entity:\n",
    "    if i!=loc_entity[-1]:\n",
    "        trip_updates_entities.append(trip_updates_raw[i:(loc_entity[loc_entity.index(i)+1]-1)])\n",
    "    else:\n",
    "        trip_updates_entities.append(trip_updates_raw[i:-1])\n"
   ]
  },
  {
   "cell_type": "code",
   "execution_count": 95,
   "metadata": {
    "collapsed": false
   },
   "outputs": [
    {
     "name": "stdout",
     "output_type": "stream",
     "text": [
      "header {\n",
      "  gtfs_realtime_version: \"1.0\"\n",
      "  timestamp: 1460855333\n",
      "}\n",
      "entity {\n",
      "  id: \"1\"\n",
      "  trip_update {\n",
      "    trip {\n",
      "      trip_id: \"1_30898369\"\n",
      "      route_id: \"1_100162\"\n",
      "    }\n",
      "    stop_time_update {\n",
      "      arrival {\n",
      "      }\n",
      "      departure {\n",
      "        time: 1460855252\n",
      "      }\n",
      "      stop_id: \"1_73080\"\n",
      "    }\n",
      "    vehicle {\n",
      "      id: \"1_7222\"\n",
      "    }\n",
      "    timestamp: 1460855240\n",
      "    delay: 199\n",
      "  }\n",
      "}\n"
     ]
    }
   ],
   "source": [
    "print trip_updates_header\n",
    "print trip_updates_entities[0]"
   ]
  },
  {
   "cell_type": "code",
   "execution_count": 96,
   "metadata": {
    "collapsed": false
   },
   "outputs": [
    {
     "name": "stdout",
     "output_type": "stream",
     "text": [
      "Trip Updates Timestamp:\n",
      "1460855333\n"
     ]
    }
   ],
   "source": [
    "loc_timestamp = trip_updates_header.find(\"timestamp\")\n",
    "loc_newline = trip_updates_header.find(\"\\n\", loc_timestamp)\n",
    "trip_updates_timestamp=int(trip_updates_header[loc_timestamp:loc_newline].replace(\"timestamp: \",\"\"))\n",
    "print \"Trip Updates Timestamp:\\n\",trip_updates_timestamp"
   ]
  },
  {
   "cell_type": "code",
   "execution_count": 97,
   "metadata": {
    "collapsed": false
   },
   "outputs": [
    {
     "name": "stdout",
     "output_type": "stream",
     "text": [
      "trip_update {\n",
      "    trip {\n",
      "      trip_id: \"1_30898369\"\n",
      "      route_id: \"1_100162\"\n",
      "    }\n",
      "    stop_time_update {\n",
      "      arrival {\n",
      "      }\n",
      "      departure {\n",
      "        time: 1460855252\n",
      "      }\n",
      "      stop_id: \"1_73080\"\n",
      "    }\n",
      "    vehicle {\n",
      "      id: \"1_7222\"\n",
      "    }\n",
      "    timestamp: 1460855240\n",
      "    delay: 199\n",
      "  }\n"
     ]
    }
   ],
   "source": [
    "trip_updates=[]\n",
    "for i in trip_updates_entities:\n",
    "    loc_trip_update = i.find(\"trip_update\")\n",
    "    loc_cbrackets = [j.start() for j in re.finditer(\"}\", i)]\n",
    "    trip_updates.append(i[loc_trip_update:loc_cbrackets[-2]+1])\n",
    "\n",
    "print trip_updates[0]"
   ]
  },
  {
   "cell_type": "code",
   "execution_count": 98,
   "metadata": {
    "collapsed": false
   },
   "outputs": [
    {
     "name": "stdout",
     "output_type": "stream",
     "text": [
      "1_30898369\n",
      "1_100162\n"
     ]
    }
   ],
   "source": [
    "trip_ids=[]\n",
    "route_ids=[]\n",
    "for i in trip_updates:\n",
    "    loc_trip = i.find(\"trip\")\n",
    "    if loc_trip == -1:\n",
    "        trip_ids.append(\"NA\")\n",
    "        route_ids.append(\"NA\")\n",
    "        continue\n",
    "    loc_trip_id = i.find(\"trip_id\",loc_trip)\n",
    "    loc_route_id = i.find(\"route_id\", loc_trip)\n",
    "    \n",
    "    loc_newline = i.find(\"\\n\", loc_trip_id)\n",
    "    trip_id = i[loc_trip_id:loc_newline].replace(\"trip_id: \",\"\").replace('\"','')\n",
    "    trip_ids.append(trip_id)\n",
    "    \n",
    "    loc_newline = i.find(\"\\n\", loc_route_id)\n",
    "    route_id = i[loc_route_id:loc_newline].replace(\"route_id: \",\"\").replace('\"','')\n",
    "    route_ids.append(route_id)\n",
    "\n",
    "print trip_ids[0]\n",
    "print route_ids[0]"
   ]
  },
  {
   "cell_type": "code",
   "execution_count": 99,
   "metadata": {
    "collapsed": false
   },
   "outputs": [
    {
     "name": "stdout",
     "output_type": "stream",
     "text": [
      "stop_time_update {\n",
      "      arrival {\n",
      "      }\n",
      "      departure {\n",
      "        time: 1460855252\n",
      "      }\n",
      "      stop_id: \"1_73080\"\n",
      "    }\n"
     ]
    }
   ],
   "source": [
    "stop_time_updates=[]\n",
    "for i in trip_updates:\n",
    "    loc_stop_time_update = i.find(\"stop_time_update\")\n",
    "    if loc_stop_time_update == -1:\n",
    "        stop_time_updates.append(\"NA\")\n",
    "        continue\n",
    "    loc_cbrackets = [j.start() for j in re.finditer(\"}\", i)]\n",
    "    stop_time_updates.append(i[loc_stop_time_update:loc_cbrackets[-3]+1])\n",
    "\n",
    "print stop_time_updates[0]"
   ]
  },
  {
   "cell_type": "code",
   "execution_count": 100,
   "metadata": {
    "collapsed": false
   },
   "outputs": [
    {
     "name": "stdout",
     "output_type": "stream",
     "text": [
      "1460855252\n",
      "1_73080\n"
     ]
    }
   ],
   "source": [
    "departure_times=[]\n",
    "stop_ids=[]\n",
    "for i in stop_time_updates:\n",
    "    loc_stop_time_update = i.find(\"stop_time_update\")\n",
    "    if loc_stop_time_update == -1:\n",
    "        departure_times.append(\"NA\")\n",
    "        stop_ids.append(\"NA\")\n",
    "        continue\n",
    "    loc_time = i.find(\"time:\",loc_stop_time_update)\n",
    "    loc_stop_id = i.find(\"stop_id\", loc_stop_time_update)\n",
    "    \n",
    "    loc_newline = i.find(\"\\n\", loc_time)\n",
    "    departure_time = int(i[loc_time:loc_newline].replace(\"time: \",\"\").replace('\"',''))\n",
    "    departure_times.append(departure_time)\n",
    "    \n",
    "    loc_newline = i.find(\"\\n\", loc_stop_id)\n",
    "    stop_id = i[loc_stop_id:loc_newline].replace(\"stop_id: \",\"\").replace('\"','')\n",
    "    stop_ids.append(stop_id)\n",
    "\n",
    "print departure_times[0]\n",
    "print stop_ids[0]"
   ]
  },
  {
   "cell_type": "code",
   "execution_count": 104,
   "metadata": {
    "collapsed": false
   },
   "outputs": [
    {
     "name": "stdout",
     "output_type": "stream",
     "text": [
      "1_7222\n"
     ]
    }
   ],
   "source": [
    "vehicle_ids=[]\n",
    "for i in trip_updates:\n",
    "    loc_vehicle = i.find(\"vehicle\")\n",
    "    if loc_vehicle == -1:\n",
    "        vehicle_ids.append(\"NA\")\n",
    "        continue\n",
    "    loc_id = i.find(\"id\", loc_vehicle)\n",
    "    loc_newline = i.find(\"\\n\", loc_id)\n",
    "    num = i[loc_id:loc_newline].replace(\"id: \",\"\").replace('\"','')\n",
    "    vehicle_ids.append(num)\n",
    "\n",
    "print vehicle_ids[0]"
   ]
  },
  {
   "cell_type": "code",
   "execution_count": 107,
   "metadata": {
    "collapsed": false
   },
   "outputs": [
    {
     "name": "stdout",
     "output_type": "stream",
     "text": [
      "1460855240\n"
     ]
    }
   ],
   "source": [
    "trip_update_timestamps=[]\n",
    "for i in trip_updates:\n",
    "    loc_timestamp = i.find(\"timestamp:\")\n",
    "    if loc_longitude == -1:\n",
    "        trip_update_timestamps.append(\"NA\")\n",
    "        continue\n",
    "    loc_newline = i.find(\"\\n\",loc_timestamp)\n",
    "    num = int(i[loc_timestamp:loc_newline].replace(\"timestamp: \",\"\"))\n",
    "    trip_update_timestamps.append(num)\n",
    "\n",
    "print trip_update_timestamps[0]"
   ]
  },
  {
   "cell_type": "code",
   "execution_count": 106,
   "metadata": {
    "collapsed": false
   },
   "outputs": [
    {
     "name": "stdout",
     "output_type": "stream",
     "text": [
      "199\n"
     ]
    }
   ],
   "source": [
    "trip_update_delays=[]\n",
    "for i in trip_updates:\n",
    "    loc_delay = i.find(\"delay:\")\n",
    "    if loc_delay == -1:\n",
    "        trip_update_delays.append(\"NA\")\n",
    "        continue\n",
    "    loc_newline = i.find(\"\\n\",loc_delay)\n",
    "    num = int(i[loc_delay:loc_newline].replace(\"delay: \",\"\"))\n",
    "    trip_update_delays.append(num)\n",
    "\n",
    "print trip_update_delays[0]"
   ]
  },
  {
   "cell_type": "code",
   "execution_count": 109,
   "metadata": {
    "collapsed": false
   },
   "outputs": [],
   "source": [
    "with open('./Trip_Update_Data_Records/Trip_Updates_'+agency_ID+\"_\"+str(trip_updates_timestamp)+\".csv\", 'w') as myfile:\n",
    "    wr = csv.writer(myfile, delimiter = ',', quoting=csv.QUOTE_NONE)\n",
    "    wr.writerow((\"Trip_Id\", \"Route_Id\", \"Vehicle_Id\", \"Trip_Update_Timestamp\", \"Departure_Time\", \"Stop_Id\", \"Delay\"))\n",
    "    for i in range(len(trip_updates)):\n",
    "        wr.writerow((trip_ids[i],route_ids[i],vehicle_ids[i],trip_update_timestamps[i],departure_times[i],stop_ids[i],trip_update_delays[i]))"
   ]
  },
  {
   "cell_type": "markdown",
   "metadata": {
    "collapsed": true
   },
   "source": [
    "### Time Reating Functions"
   ]
  },
  {
   "cell_type": "code",
   "execution_count": null,
   "metadata": {
    "collapsed": true
   },
   "outputs": [],
   "source": [
    "def print_it (st):\n",
    "    print st"
   ]
  },
  {
   "cell_type": "code",
   "execution_count": null,
   "metadata": {
    "collapsed": false
   },
   "outputs": [],
   "source": [
    "stop_sign = True\n",
    "number_of_records = 0\n",
    "while stop_sign:\n",
    "    number_of_records +=1\n",
    "    print_it(\"testing\")\n",
    "    if number_of_records>=15:\n",
    "        stop_sign=False\n",
    "    time.sleep(3)"
   ]
  },
  {
   "cell_type": "markdown",
   "metadata": {},
   "source": [
    "### Converting Time to Readable Format"
   ]
  },
  {
   "cell_type": "code",
   "execution_count": 30,
   "metadata": {
    "collapsed": false
   },
   "outputs": [
    {
     "data": {
      "text/plain": [
       "time.struct_time(tm_year=2016, tm_mon=4, tm_mday=16, tm_hour=17, tm_min=19, tm_sec=32, tm_wday=5, tm_yday=107, tm_isdst=1)"
      ]
     },
     "execution_count": 30,
     "metadata": {},
     "output_type": "execute_result"
    }
   ],
   "source": [
    "time.localtime()"
   ]
  },
  {
   "cell_type": "code",
   "execution_count": 40,
   "metadata": {
    "collapsed": false
   },
   "outputs": [
    {
     "data": {
      "text/plain": [
       "'2016-04-16 17:19:20'"
      ]
     },
     "execution_count": 40,
     "metadata": {},
     "output_type": "execute_result"
    }
   ],
   "source": [
    "time.strftime('%Y-%m-%d %H:%M:%S', time.localtime(1460852360))\n",
    "#1460852360 comes from the timestamps as given by OBA API"
   ]
  },
  {
   "cell_type": "code",
   "execution_count": 43,
   "metadata": {
    "collapsed": false
   },
   "outputs": [
    {
     "name": "stdout",
     "output_type": "stream",
     "text": [
      "17\n",
      "19\n",
      "20\n"
     ]
    }
   ],
   "source": [
    "print time.strftime('%H', time.localtime(1460852360))\n",
    "print time.strftime('%M', time.localtime(1460852360))\n",
    "print time.strftime('%S', time.localtime(1460852360))\n",
    "#1460852360 comes from the timestamps as given by OBA API"
   ]
  },
  {
   "cell_type": "code",
   "execution_count": null,
   "metadata": {
    "collapsed": true
   },
   "outputs": [],
   "source": []
  }
 ],
 "metadata": {
  "kernelspec": {
   "display_name": "Python 2",
   "language": "python",
   "name": "python2"
  },
  "language_info": {
   "codemirror_mode": {
    "name": "ipython",
    "version": 2
   },
   "file_extension": ".py",
   "mimetype": "text/x-python",
   "name": "python",
   "nbconvert_exporter": "python",
   "pygments_lexer": "ipython2",
   "version": "2.7.11"
  }
 },
 "nbformat": 4,
 "nbformat_minor": 0
}
