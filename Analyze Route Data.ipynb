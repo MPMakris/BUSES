{
 "cells": [
  {
   "cell_type": "code",
   "execution_count": 184,
   "metadata": {
    "collapsed": false
   },
   "outputs": [],
   "source": [
    "%matplotlib inline\n",
    "import numpy as np\n",
    "import pandas as pd\n",
    "import os\n",
    "from geopy.distance import vincenty"
   ]
  },
  {
   "cell_type": "code",
   "execution_count": 218,
   "metadata": {
    "collapsed": true
   },
   "outputs": [],
   "source": [
    "agency_number = 1\n",
    "route_number = 3\n",
    "if type(agency_number) == int:\n",
    "    agency_number = str(agency_number)\n",
    "if type(route_number) == int:\n",
    "    route_number = str(route_number)"
   ]
  },
  {
   "cell_type": "code",
   "execution_count": 219,
   "metadata": {
    "collapsed": false
   },
   "outputs": [],
   "source": [
    "EXPECTS_ROUTE = pd.read_csv('./EXPECTS_Databases_Routes/' + agency_number + '/' + 'EXPECTS_' + agency_number + '_Route_' + route_number + '.txt', sep=',')\n",
    "INSTANCES_ROUTE = pd.read_csv('./INSTANCES_Databases_Routes/' + agency_number + '/' + 'INSTANCES_' + agency_number + '_Route_' + route_number + '.txt', sep=',')\n",
    "STOPS = pd.read_csv('./Agency-Info/' + agency_number + '_gtfs/stops.txt', sep=',')"
   ]
  },
  {
   "cell_type": "code",
   "execution_count": 221,
   "metadata": {
    "collapsed": false
   },
   "outputs": [
    {
     "name": "stdout",
     "output_type": "stream",
     "text": [
      "1_30940700 , 1_12890\n"
     ]
    }
   ],
   "source": [
    "Trip_Id = '1_30940700'\n",
    "Stop_Id = '1_12890'\n",
    "print Trip_Id, \",\", Stop_Id"
   ]
  },
  {
   "cell_type": "code",
   "execution_count": 90,
   "metadata": {
    "collapsed": false
   },
   "outputs": [],
   "source": [
    "#line = 10020\n",
    "#Trip_Id = EXPECTS_ROUTE.iloc[0,0]\n",
    "#Stop_Id = EXPECTS_ROUTE.iloc[0,1]\n",
    "#print Trip_Id, \",\", Stop_Id"
   ]
  },
  {
   "cell_type": "code",
   "execution_count": 222,
   "metadata": {
    "collapsed": false
   },
   "outputs": [],
   "source": [
    "INSTANCES_TRIP = INSTANCES_ROUTE[INSTANCES_ROUTE['Trip_Id']==Trip_Id]"
   ]
  },
  {
   "cell_type": "code",
   "execution_count": 223,
   "metadata": {
    "collapsed": false
   },
   "outputs": [],
   "source": [
    "Stop_Loc = EXPECTS_ROUTE[EXPECTS_ROUTE['Stop_Id']==Stop_Id][['Stop_Lat', 'Stop_Lon']].iloc[0].tolist()"
   ]
  },
  {
   "cell_type": "code",
   "execution_count": 224,
   "metadata": {
    "collapsed": false
   },
   "outputs": [],
   "source": [
    "Distances = []\n",
    "for i in range(len(INSTANCES_TRIP)):\n",
    "    Vehicle_Loc = INSTANCES_TRIP[['Vehicle_Latitude','Vehicle_Longitude']].iloc[i].tolist()\n",
    "    Distances.append(vincenty(Vehicle_Loc, Stop_Loc).feet)"
   ]
  },
  {
   "cell_type": "code",
   "execution_count": 230,
   "metadata": {
    "collapsed": false
   },
   "outputs": [
    {
     "data": {
      "text/plain": [
       "0"
      ]
     },
     "execution_count": 230,
     "metadata": {},
     "output_type": "execute_result"
    }
   ],
   "source": [
    "INSTANCES_TRIP = INSTANCES_TRIP.assign(Distance_to_Stop=Distances)\n",
    "sum(INSTANCES_TRIP['Distance_to_Stop']<=100)"
   ]
  },
  {
   "cell_type": "code",
   "execution_count": null,
   "metadata": {
    "collapsed": true
   },
   "outputs": [],
   "source": []
  }
 ],
 "metadata": {
  "kernelspec": {
   "display_name": "Python 2",
   "language": "python",
   "name": "python2"
  },
  "language_info": {
   "codemirror_mode": {
    "name": "ipython",
    "version": 2
   },
   "file_extension": ".py",
   "mimetype": "text/x-python",
   "name": "python",
   "nbconvert_exporter": "python",
   "pygments_lexer": "ipython2",
   "version": "2.7.11"
  }
 },
 "nbformat": 4,
 "nbformat_minor": 0
}
