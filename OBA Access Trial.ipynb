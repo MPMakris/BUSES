{
 "cells": [
  {
   "cell_type": "markdown",
   "metadata": {},
   "source": [
    "# This is an early working file to test out how to get date from the OBA api for Sound Transit.\n",
    "---"
   ]
  },
  {
   "cell_type": "markdown",
   "metadata": {},
   "source": [
    "### Get OBA Info"
   ]
  },
  {
   "cell_type": "code",
   "execution_count": 231,
   "metadata": {
    "collapsed": false
   },
   "outputs": [
    {
     "data": {
      "text/plain": [
       "'66fae88a-fcc9-4ceb-958d-3932f378c161'"
      ]
     },
     "execution_count": 231,
     "metadata": {},
     "output_type": "execute_result"
    }
   ],
   "source": [
    "key_file = open('OBA_API_Key.txt')\n",
    "key_mpm = key_file.read()\n",
    "key_file.close()\n",
    "key_mpm"
   ]
  },
  {
   "cell_type": "code",
   "execution_count": 232,
   "metadata": {
    "collapsed": false
   },
   "outputs": [
    {
     "data": {
      "text/plain": [
       "'http://api.pugetsound.onebusaway.org/'"
      ]
     },
     "execution_count": 232,
     "metadata": {},
     "output_type": "execute_result"
    }
   ],
   "source": [
    "server_file = open('OBA_Server_Location.txt', 'r')\n",
    "oba_url = server_file.read()\n",
    "server_file.close()\n",
    "oba_url"
   ]
  },
  {
   "cell_type": "markdown",
   "metadata": {},
   "source": [
    "### Imports"
   ]
  },
  {
   "cell_type": "code",
   "execution_count": 233,
   "metadata": {
    "collapsed": true
   },
   "outputs": [],
   "source": [
    "import numpy as np\n",
    "import pandas as pd\n",
    "import requests\n",
    "import re\n",
    "from bs4 import BeautifulSoup as BS\n",
    "import csv"
   ]
  },
  {
   "cell_type": "markdown",
   "metadata": {},
   "source": [
    "### Get 'Alerts' Trial"
   ]
  },
  {
   "cell_type": "code",
   "execution_count": 10,
   "metadata": {
    "collapsed": false
   },
   "outputs": [
    {
     "data": {
      "text/plain": [
       "'http://api.pugetsound.onebusaway.org/api/gtfs_realtime/alerts-for-agency/1.pbtext?key=66fae88a-fcc9-4ceb-958d-3932f378c161'"
      ]
     },
     "execution_count": 10,
     "metadata": {},
     "output_type": "execute_result"
    }
   ],
   "source": [
    "request_alerts = oba_url + 'api/gtfs_realtime/alerts-for-agency/1.pbtext?key=' + key_mpm\n",
    "request_alerts"
   ]
  },
  {
   "cell_type": "code",
   "execution_count": 11,
   "metadata": {
    "collapsed": false
   },
   "outputs": [
    {
     "data": {
      "text/plain": [
       "200"
      ]
     },
     "execution_count": 11,
     "metadata": {},
     "output_type": "execute_result"
    }
   ],
   "source": [
    "r = requests.get(request_alerts)\n",
    "r.status_code"
   ]
  },
  {
   "cell_type": "code",
   "execution_count": 12,
   "metadata": {
    "collapsed": false
   },
   "outputs": [
    {
     "name": "stdout",
     "output_type": "stream",
     "text": [
      "header {\n",
      "  gtfs_realtime_version: \"1.0\"\n",
      "  timestamp: 1459730708\n",
      "}\n",
      "\n"
     ]
    }
   ],
   "source": [
    "b = BS(r.content, \"xml\")\n",
    "print r.content"
   ]
  },
  {
   "cell_type": "markdown",
   "metadata": {},
   "source": [
    "### Get 'Positions' Trial"
   ]
  },
  {
   "cell_type": "code",
   "execution_count": 13,
   "metadata": {
    "collapsed": false
   },
   "outputs": [
    {
     "data": {
      "text/plain": [
       "'http://api.pugetsound.onebusaway.org/api/gtfs_realtime/vehicle-positions-for-agency/1.pbtext?key=66fae88a-fcc9-4ceb-958d-3932f378c161'"
      ]
     },
     "execution_count": 13,
     "metadata": {},
     "output_type": "execute_result"
    }
   ],
   "source": [
    "request_positions = oba_url + 'api/gtfs_realtime/vehicle-positions-for-agency/1.pbtext?key=' + key_mpm\n",
    "request_positions"
   ]
  },
  {
   "cell_type": "code",
   "execution_count": 14,
   "metadata": {
    "collapsed": false
   },
   "outputs": [
    {
     "data": {
      "text/plain": [
       "200"
      ]
     },
     "execution_count": 14,
     "metadata": {},
     "output_type": "execute_result"
    }
   ],
   "source": [
    "r = requests.get(request_positions)\n",
    "r.status_code"
   ]
  },
  {
   "cell_type": "code",
   "execution_count": 15,
   "metadata": {
    "collapsed": true
   },
   "outputs": [],
   "source": [
    "positions_raw = r.content"
   ]
  },
  {
   "cell_type": "code",
   "execution_count": 16,
   "metadata": {
    "collapsed": false
   },
   "outputs": [
    {
     "data": {
      "text/plain": [
       "'value1'"
      ]
     },
     "execution_count": 16,
     "metadata": {},
     "output_type": "execute_result"
    }
   ],
   "source": [
    "header = {\"key1\":\"value1\"}\n",
    "header[\"key1\"]"
   ]
  },
  {
   "cell_type": "code",
   "execution_count": 141,
   "metadata": {
    "collapsed": false
   },
   "outputs": [],
   "source": [
    "#loc_newline_in_raw = [i.start() for i in re.finditer(\"{\\n\", positions_raw)]\n",
    "#print positions_raw[0:110]\n",
    "#positions_new = positions_raw.replace(\"{\\n\",\"{\")\n",
    "#print positions_new[0:110]\n",
    "\n",
    "loc_entity = [i.start() for i in re.finditer(\"entity\", positions_raw)]\n",
    "\n",
    "begin_header = r.content.find(\"header\")\n",
    "end_header = r.content.find(\"}\")\n",
    "header = r.content[begin_header:end_header+1]\n",
    "\n",
    "entities = []\n",
    "for i in loc_entity:\n",
    "    if i!=loc_entity[-1]:\n",
    "        entities.append(positions_raw[i:(loc_entity[loc_entity.index(i)+1]-1)])\n",
    "    else:\n",
    "        entities.append(positions_raw[i:-1])\n"
   ]
  },
  {
   "cell_type": "code",
   "execution_count": 142,
   "metadata": {
    "collapsed": false,
    "scrolled": true
   },
   "outputs": [
    {
     "name": "stdout",
     "output_type": "stream",
     "text": [
      "header {\n",
      "  gtfs_realtime_version: \"1.0\"\n",
      "  timestamp: 1459730712\n",
      "}\n",
      "entity {\n",
      "  id: \"1\"\n",
      "  vehicle {\n",
      "    trip {\n",
      "      trip_id: \"30899078\"\n",
      "      route_id: \"100136\"\n",
      "    }\n",
      "    position {\n",
      "      latitude: 47.644783\n",
      "      longitude: -122.132286\n",
      "    }\n",
      "    timestamp: 1459730652\n",
      "    vehicle {\n",
      "      id: \"7222\"\n",
      "    }\n",
      "  }\n",
      "}\n"
     ]
    }
   ],
   "source": [
    "print header\n",
    "print entities[0]"
   ]
  },
  {
   "cell_type": "code",
   "execution_count": 228,
   "metadata": {
    "collapsed": false
   },
   "outputs": [
    {
     "name": "stdout",
     "output_type": "stream",
     "text": [
      "Timestamp:\n",
      "1459730712\n"
     ]
    }
   ],
   "source": [
    "loc_timestamp = header.find(\"timestamp\")\n",
    "loc_newline = header.find(\"\\n\", loc_timestamp)\n",
    "call_timestamp=int(header[loc_timestamp:loc_newline].replace(\"timestamp: \",\"\"))\n",
    "print \"Timestamp:\\n\",call_timestamp"
   ]
  },
  {
   "cell_type": "code",
   "execution_count": 221,
   "metadata": {
    "collapsed": false
   },
   "outputs": [
    {
     "name": "stdout",
     "output_type": "stream",
     "text": [
      "vehicle {\n",
      "    trip {\n",
      "      trip_id: \"30899078\"\n",
      "      route_id: \"100136\"\n",
      "    }\n",
      "    position {\n",
      "      latitude: 47.644783\n",
      "      longitude: -122.132286\n",
      "    }\n",
      "    timestamp: 1459730652\n",
      "    vehicle {\n",
      "      id: \"7222\"\n",
      "    }\n",
      "  }\n"
     ]
    }
   ],
   "source": [
    "vehicles=[]\n",
    "for i in entities:\n",
    "    loc_vehicle = i.find(\"vehicle\")\n",
    "    loc_cbrackets = [j.start() for j in re.finditer(\"}\", i)]\n",
    "    vehicles.append(i[loc_vehicle:loc_cbrackets[-2]+1])\n",
    "\n",
    "print vehicles[0]"
   ]
  },
  {
   "cell_type": "code",
   "execution_count": 134,
   "metadata": {
    "collapsed": false
   },
   "outputs": [
    {
     "name": "stdout",
     "output_type": "stream",
     "text": [
      "header {\n",
      "  gtfs_realtime_version: \"1.0\"\n",
      "  timestamp: 1459730712\n",
      "}\n",
      "30899078\n",
      "100136\n"
     ]
    }
   ],
   "source": [
    "trip_ids=[]\n",
    "route_ids=[]\n",
    "for i in vehicles:\n",
    "    loc_trip = i.find(\"trip\")\n",
    "    if loc_trip == -1:\n",
    "        trip_ids.append([])\n",
    "        route_ids.append([])\n",
    "        continue\n",
    "    loc_trip_id = i.find(\"trip_id\",loc_trip)\n",
    "    loc_route_id = i.find(\"route_id\", loc_trip)\n",
    "    \n",
    "    loc_newline = i.find(\"\\n\", loc_trip_id)\n",
    "    trip_id = int(i[loc_trip_id:loc_newline].replace(\"trip_id: \",\"\").replace('\"',''))\n",
    "    trip_ids.append(trip_id)\n",
    "    \n",
    "    loc_newline = i.find(\"\\n\", loc_route_id)\n",
    "    route_id = int(i[loc_route_id:loc_newline].replace(\"route_id: \",\"\").replace('\"',''))\n",
    "    route_ids.append(route_id)\n",
    "\n",
    "print header\n",
    "print trip_ids[0]\n",
    "print route_ids[0]"
   ]
  },
  {
   "cell_type": "code",
   "execution_count": 139,
   "metadata": {
    "collapsed": false
   },
   "outputs": [
    {
     "name": "stdout",
     "output_type": "stream",
     "text": [
      "position {\n",
      "      latitude: 47.644783\n",
      "      longitude: -122.132286\n",
      "    }\n"
     ]
    }
   ],
   "source": [
    "positions=[]\n",
    "for i in vehicles:\n",
    "    loc_position = i.find(\"position\")\n",
    "    if loc_position == -1:\n",
    "        positions.append([])\n",
    "        continue\n",
    "    loc_cbracket = i.find(\"}\",loc_position)\n",
    "    positions.append(i[loc_position:loc_cbracket+1])\n",
    "\n",
    "print positions[0]"
   ]
  },
  {
   "cell_type": "code",
   "execution_count": 138,
   "metadata": {
    "collapsed": false
   },
   "outputs": [
    {
     "name": "stdout",
     "output_type": "stream",
     "text": [
      "47.644783\n"
     ]
    }
   ],
   "source": [
    "latitudes=[]\n",
    "for i in vehicles:\n",
    "    loc_latitude = i.find(\"latitude\")\n",
    "    if loc_latitude == -1:\n",
    "        latitudes.append([])\n",
    "        continue\n",
    "    loc_newline = i.find(\"\\n\",loc_latitude)\n",
    "    num = float(i[loc_latitude:loc_newline].replace(\"latitude: \",\"\"))\n",
    "    latitudes.append(num)\n",
    "\n",
    "print latitudes[0]"
   ]
  },
  {
   "cell_type": "code",
   "execution_count": 137,
   "metadata": {
    "collapsed": false
   },
   "outputs": [
    {
     "name": "stdout",
     "output_type": "stream",
     "text": [
      "-122.132286\n"
     ]
    }
   ],
   "source": [
    "longitudes=[]\n",
    "for i in vehicles:\n",
    "    loc_longitude = i.find(\"longitude\")\n",
    "    if loc_longitude == -1:\n",
    "        longitudes.append([])\n",
    "        continue\n",
    "    loc_newline = i.find(\"\\n\",loc_longitude)\n",
    "    num = float(i[loc_longitude:loc_newline].replace(\"longitude: \",\"\"))\n",
    "    longitudes.append(num)\n",
    "\n",
    "print longitudes[0]"
   ]
  },
  {
   "cell_type": "code",
   "execution_count": 136,
   "metadata": {
    "collapsed": false
   },
   "outputs": [
    {
     "name": "stdout",
     "output_type": "stream",
     "text": [
      "1459730652\n"
     ]
    }
   ],
   "source": [
    "timestamps=[]\n",
    "for i in vehicles:\n",
    "    loc_timestamp = i.find(\"timestamp\")\n",
    "    if loc_longitude == -1:\n",
    "        timestamps.append([])\n",
    "        continue\n",
    "    loc_newline = i.find(\"\\n\",loc_timestamp)\n",
    "    num = int(i[loc_timestamp:loc_newline].replace(\"timestamp: \",\"\"))\n",
    "    timestamps.append(num)\n",
    "\n",
    "print timestamps[0]"
   ]
  },
  {
   "cell_type": "code",
   "execution_count": 155,
   "metadata": {
    "collapsed": false
   },
   "outputs": [
    {
     "name": "stdout",
     "output_type": "stream",
     "text": [
      "7222\n"
     ]
    }
   ],
   "source": [
    "vehicle_ids=[]\n",
    "for i in vehicles:\n",
    "    loc_vehicle_info = [j.start() for j in re.finditer(\"vehicle\", i)]\n",
    "    loc_vehicle_section = i.find(\"vehicle\", loc_vehicle_info[1])\n",
    "    if loc_vehicle_id == -1:\n",
    "        vehicle_ids.append([])\n",
    "        continue\n",
    "    loc_vehicle_id = i.find(\"id\", loc_vehicle_section)\n",
    "    loc_newline = i.find(\"\\n\", loc_vehicle_id)\n",
    "    num = int(i[loc_vehicle_id:loc_newline].replace(\"id: \",\"\").replace('\"',''))\n",
    "    vehicle_ids.append(num)\n",
    "\n",
    "print vehicle_ids[0]"
   ]
  },
  {
   "cell_type": "code",
   "execution_count": 230,
   "metadata": {
    "collapsed": false
   },
   "outputs": [],
   "source": [
    "with open('./Position_Data_Records/Positions_'+str(call_timestamp)+\".csv\", 'w') as myfile:\n",
    "    wr = csv.writer(myfile, delimiter = ',', quoting=csv.QUOTE_NONE)\n",
    "    wr.writerow((\"Vehicle_Id\", \"Timestamp\", \"Trip_Id\", \"Route_Id\", \"Latitude\", \"Longitude\"))\n",
    "    for i in range(len(vehicles)):\n",
    "        wr.writerow((vehicle_ids[i],timestamps[i],trip_ids[i],route_ids[i],latitudes[i],longitudes[i]))"
   ]
  },
  {
   "cell_type": "markdown",
   "metadata": {},
   "source": [
    "### Get Current System Time"
   ]
  },
  {
   "cell_type": "code",
   "execution_count": 10,
   "metadata": {
    "collapsed": false
   },
   "outputs": [
    {
     "data": {
      "text/plain": [
       "'http://api.pugetsound.onebusaway.org/api/where/current-time.xml?key=66fae88a-fcc9-4ceb-958d-3932f378c161'"
      ]
     },
     "execution_count": 10,
     "metadata": {},
     "output_type": "execute_result"
    }
   ],
   "source": [
    "request_system_time = oba_url + 'api/where/current-time.xml?key=' + str(key_mpm)\n",
    "request_system_time"
   ]
  },
  {
   "cell_type": "code",
   "execution_count": 23,
   "metadata": {
    "collapsed": false
   },
   "outputs": [
    {
     "data": {
      "text/plain": [
       "200"
      ]
     },
     "execution_count": 23,
     "metadata": {},
     "output_type": "execute_result"
    }
   ],
   "source": [
    "r = requests.get(request_system_time)\n",
    "r.status_code"
   ]
  },
  {
   "cell_type": "code",
   "execution_count": 12,
   "metadata": {
    "collapsed": false
   },
   "outputs": [
    {
     "name": "stdout",
     "output_type": "stream",
     "text": [
      "<?xml version=\"1.0\" encoding=\"utf-8\"?>\n",
      "<response>\n",
      "<version>2</version>\n",
      "<code>200</code>\n",
      "<currentTime>1459652385045</currentTime>\n",
      "<text>OK</text>\n",
      "<data class=\"entryWithReferences\">\n",
      "<references/>\n",
      "<entry class=\"time\">\n",
      "<time>1459652385045</time>\n",
      "<readableTime>2016-04-02T19:59:45-07:00</readableTime>\n",
      "</entry>\n",
      "</data>\n",
      "</response>\n"
     ]
    }
   ],
   "source": [
    "b = BS(r.content, \"xml\")\n",
    "print b"
   ]
  },
  {
   "cell_type": "code",
   "execution_count": null,
   "metadata": {
    "collapsed": true
   },
   "outputs": [],
   "source": []
  }
 ],
 "metadata": {
  "kernelspec": {
   "display_name": "Python 2",
   "language": "python",
   "name": "python2"
  },
  "language_info": {
   "codemirror_mode": {
    "name": "ipython",
    "version": 2
   },
   "file_extension": ".py",
   "mimetype": "text/x-python",
   "name": "python",
   "nbconvert_exporter": "python",
   "pygments_lexer": "ipython2",
   "version": "2.7.11"
  }
 },
 "nbformat": 4,
 "nbformat_minor": 0
}
