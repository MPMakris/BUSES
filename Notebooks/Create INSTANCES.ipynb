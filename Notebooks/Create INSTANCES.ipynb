{
 "cells": [
  {
   "cell_type": "code",
   "execution_count": 8,
   "metadata": {
    "collapsed": true
   },
   "outputs": [],
   "source": [
    "%matplotlib inline\n",
    "import numpy as np\n",
    "import pandas as pd\n",
    "import os"
   ]
  },
  {
   "cell_type": "markdown",
   "metadata": {},
   "source": [
    "### Create the INSTANCES for Whole Agencies"
   ]
  },
  {
   "cell_type": "code",
   "execution_count": 9,
   "metadata": {
    "collapsed": true
   },
   "outputs": [],
   "source": [
    "agency_number = 1\n",
    "if type(agency_number) == int:\n",
    "    agency_number = str(agency_number)"
   ]
  },
  {
   "cell_type": "code",
   "execution_count": 10,
   "metadata": {
    "collapsed": true
   },
   "outputs": [],
   "source": [
    "Positions_Raw_Loc = '../Data/Position_Data_Records/'\n",
    "Agency_Info_Loc = '../Agency-Info/'"
   ]
  },
  {
   "cell_type": "code",
   "execution_count": 11,
   "metadata": {
    "collapsed": false
   },
   "outputs": [],
   "source": [
    "directory = os.listdir(Positions_Raw_Loc)\n",
    "try:\n",
    "    directory.index('.DS_Store')\n",
    "    directory.remove('.DS_Store')\n",
    "except:\n",
    "    pass\n",
    "routes_file_loc = Agency_Info_Loc + agency_number + '_gtfs/routes.txt'"
   ]
  },
  {
   "cell_type": "code",
   "execution_count": 12,
   "metadata": {
    "collapsed": false
   },
   "outputs": [],
   "source": [
    "positions_file_locs =  [Positions_Raw_Loc + p for p in directory]"
   ]
  },
  {
   "cell_type": "code",
   "execution_count": 13,
   "metadata": {
    "collapsed": false
   },
   "outputs": [],
   "source": [
    "positions_file_locs_for_agency = [loc for loc in positions_file_locs if loc.find(\"_\" + agency_number + \"_\")]"
   ]
  },
  {
   "cell_type": "code",
   "execution_count": 17,
   "metadata": {
    "collapsed": false
   },
   "outputs": [],
   "source": [
    "databases = [pd.read_csv(loc).dropna() for loc in positions_file_locs_for_agency]\n",
    "routes_data = pd.read_csv(routes_file_loc, usecols=['agency_id', 'route_id', 'route_short_name'])"
   ]
  },
  {
   "cell_type": "code",
   "execution_count": null,
   "metadata": {
    "collapsed": false
   },
   "outputs": [],
   "source": [
    "#moved to within the list comprehension so it cleans as it imports\n",
    "#databases_cleaned = [db.dropna() for db in databases]"
   ]
  },
  {
   "cell_type": "code",
   "execution_count": 18,
   "metadata": {
    "collapsed": false
   },
   "outputs": [],
   "source": [
    "try:\n",
    "    INSTANCES = pd.concat(databases)\n",
    "except:\n",
    "    print \"Cannot Create INSTANCES for this Agency\"\n",
    "    INSTANCES = pd.DataFrame([])"
   ]
  },
  {
   "cell_type": "code",
   "execution_count": 19,
   "metadata": {
    "collapsed": false
   },
   "outputs": [],
   "source": [
    "routes_data['route_id'] = routes_data['agency_id'].astype(str) + \"_\" + routes_data['route_id'].astype(str) \n",
    "routes_data['route_short_name'] = routes_data['agency_id'].astype(str) + \"_\" + routes_data['route_short_name'].astype(str) "
   ]
  },
  {
   "cell_type": "code",
   "execution_count": 22,
   "metadata": {
    "collapsed": false
   },
   "outputs": [],
   "source": [
    "INSTANCES = INSTANCES.merge(routes_data[['Route_Id', 'Route_Short_Name']], how=\"left\", on='Route_Id')"
   ]
  },
  {
   "cell_type": "code",
   "execution_count": 23,
   "metadata": {
    "collapsed": false
   },
   "outputs": [],
   "source": [
    "INSTANCES.to_csv('../Data/INSTANCES_Databases/Whole_Agency/INSTANCES_By_Agency_' + agency_number + '_Whole.txt', sep=',', na_rep='NA', index=False, mode = 'wb')"
   ]
  },
  {
   "cell_type": "markdown",
   "metadata": {},
   "source": [
    "### Create INSTANCES for One Route at Selected Agency"
   ]
  },
  {
   "cell_type": "code",
   "execution_count": 24,
   "metadata": {
    "collapsed": false
   },
   "outputs": [],
   "source": [
    "route_number = 2\n",
    "if type(route_number) == int:\n",
    "    route_number = str(route_number)"
   ]
  },
  {
   "cell_type": "code",
   "execution_count": 25,
   "metadata": {
    "collapsed": false
   },
   "outputs": [],
   "source": [
    "INSTANCES_ROUTE = INSTANCES[INSTANCES['Route_Short_Name']==agency_number + \"_\" + route_number]"
   ]
  },
  {
   "cell_type": "code",
   "execution_count": 26,
   "metadata": {
    "collapsed": true
   },
   "outputs": [],
   "source": [
    "if os.path.isdir('../Data/INSTANCES_Databases/Route_By_Agency/Agency_' + agency_number + '/'):\n",
    "    pass\n",
    "else:\n",
    "    os.mkdir('../Data/INSTANCES_Databases/Route_By_Agency/Agency_' + agency_number + '/')"
   ]
  },
  {
   "cell_type": "code",
   "execution_count": 27,
   "metadata": {
    "collapsed": false
   },
   "outputs": [],
   "source": [
    "INSTANCES_ROUTE.to_csv('../Data/INSTANCES_Databases/Route_By_Agency/Agency_' + agency_number + '/' + 'INSTANCES_Agency_' + agency_number + '_Route_' + route_number + '.txt', sep=',', na_rep='NA', index=False, mode = 'wb')"
   ]
  },
  {
   "cell_type": "markdown",
   "metadata": {},
   "source": [
    "### Create INSTANCES_By_Route for All Listed Routes in INSTANCES"
   ]
  },
  {
   "cell_type": "code",
   "execution_count": 40,
   "metadata": {
    "collapsed": false
   },
   "outputs": [],
   "source": [
    "List_of_Routes_In_Agency_INSTANCES = INSTANCES['Route_Short_Name'].unique()"
   ]
  },
  {
   "cell_type": "code",
   "execution_count": 55,
   "metadata": {
    "collapsed": false
   },
   "outputs": [],
   "source": [
    "if os.path.isdir('../Data/INSTANCES_Databases/Route_By_Agency/Agency_' + agency_number + '/'):\n",
    "    pass\n",
    "else:\n",
    "    os.mkdir('../Data/INSTANCES_Databases/Route_By_Agency/Agency_' + agency_number + '/')\n",
    "for Route in List_of_Routes_In_Agency_INSTANCES:\n",
    "    Route = Route.replace(agency_number+\"_\",'')\n",
    "    INSTANCES_ROUTE = INSTANCES[INSTANCES['Route_Short_Name']==agency_number + \"_\" + Route]\n",
    "    INSTANCES_ROUTE.to_csv('../Data/INSTANCES_Databases/Route_By_Agency/Agency_' + agency_number + '/' + 'INSTANCES_Agency_' + agency_number + '_Route_' + Route + '.txt', sep=',', na_rep='NA', index=False, mode = 'wb')"
   ]
  }
 ],
 "metadata": {
  "kernelspec": {
   "display_name": "Python 2",
   "language": "python",
   "name": "python2"
  },
  "language_info": {
   "codemirror_mode": {
    "name": "ipython",
    "version": 2
   },
   "file_extension": ".py",
   "mimetype": "text/x-python",
   "name": "python",
   "nbconvert_exporter": "python",
   "pygments_lexer": "ipython2",
   "version": "2.7.11"
  }
 },
 "nbformat": 4,
 "nbformat_minor": 0
}
